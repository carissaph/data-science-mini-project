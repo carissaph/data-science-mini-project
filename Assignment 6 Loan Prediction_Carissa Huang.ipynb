{
 "cells": [
  {
   "cell_type": "code",
   "execution_count": 1,
   "metadata": {},
   "outputs": [],
   "source": [
    "%matplotlib inline\n",
    "import numpy as np\n",
    "import pandas as pd\n",
    "from scipy import stats\n",
    "import matplotlib.pyplot as plt\n",
    "import seaborn as sns"
   ]
  },
  {
   "cell_type": "code",
   "execution_count": 2,
   "metadata": {
    "scrolled": true
   },
   "outputs": [
    {
     "data": {
      "text/html": [
       "<div>\n",
       "<style scoped>\n",
       "    .dataframe tbody tr th:only-of-type {\n",
       "        vertical-align: middle;\n",
       "    }\n",
       "\n",
       "    .dataframe tbody tr th {\n",
       "        vertical-align: top;\n",
       "    }\n",
       "\n",
       "    .dataframe thead th {\n",
       "        text-align: right;\n",
       "    }\n",
       "</style>\n",
       "<table border=\"1\" class=\"dataframe\">\n",
       "  <thead>\n",
       "    <tr style=\"text-align: right;\">\n",
       "      <th></th>\n",
       "      <th>X1</th>\n",
       "      <th>X2</th>\n",
       "      <th>X3</th>\n",
       "      <th>X4</th>\n",
       "      <th>X5</th>\n",
       "      <th>X6</th>\n",
       "      <th>X7</th>\n",
       "      <th>X8</th>\n",
       "      <th>X9</th>\n",
       "      <th>X10</th>\n",
       "      <th>...</th>\n",
       "      <th>X23</th>\n",
       "      <th>X24</th>\n",
       "      <th>X25</th>\n",
       "      <th>X26</th>\n",
       "      <th>X27</th>\n",
       "      <th>X28</th>\n",
       "      <th>X29</th>\n",
       "      <th>X30</th>\n",
       "      <th>X31</th>\n",
       "      <th>X32</th>\n",
       "    </tr>\n",
       "  </thead>\n",
       "  <tbody>\n",
       "    <tr>\n",
       "      <th>0</th>\n",
       "      <td>11.89%</td>\n",
       "      <td>54734.0</td>\n",
       "      <td>80364.0</td>\n",
       "      <td>$25,000</td>\n",
       "      <td>$25,000</td>\n",
       "      <td>$19,080</td>\n",
       "      <td>36 months</td>\n",
       "      <td>B</td>\n",
       "      <td>B4</td>\n",
       "      <td>NaN</td>\n",
       "      <td>...</td>\n",
       "      <td>Feb-94</td>\n",
       "      <td>0.0</td>\n",
       "      <td>NaN</td>\n",
       "      <td>NaN</td>\n",
       "      <td>10.0</td>\n",
       "      <td>0.0</td>\n",
       "      <td>28854.0</td>\n",
       "      <td>52.10%</td>\n",
       "      <td>42.0</td>\n",
       "      <td>f</td>\n",
       "    </tr>\n",
       "    <tr>\n",
       "      <th>1</th>\n",
       "      <td>10.71%</td>\n",
       "      <td>55742.0</td>\n",
       "      <td>114426.0</td>\n",
       "      <td>$7,000</td>\n",
       "      <td>$7,000</td>\n",
       "      <td>$673</td>\n",
       "      <td>36 months</td>\n",
       "      <td>B</td>\n",
       "      <td>B5</td>\n",
       "      <td>CNN</td>\n",
       "      <td>...</td>\n",
       "      <td>Oct-00</td>\n",
       "      <td>0.0</td>\n",
       "      <td>NaN</td>\n",
       "      <td>NaN</td>\n",
       "      <td>7.0</td>\n",
       "      <td>0.0</td>\n",
       "      <td>33623.0</td>\n",
       "      <td>76.70%</td>\n",
       "      <td>7.0</td>\n",
       "      <td>f</td>\n",
       "    </tr>\n",
       "    <tr>\n",
       "      <th>2</th>\n",
       "      <td>16.99%</td>\n",
       "      <td>57167.0</td>\n",
       "      <td>137225.0</td>\n",
       "      <td>$25,000</td>\n",
       "      <td>$25,000</td>\n",
       "      <td>$24,725</td>\n",
       "      <td>36 months</td>\n",
       "      <td>D</td>\n",
       "      <td>D3</td>\n",
       "      <td>Web Programmer</td>\n",
       "      <td>...</td>\n",
       "      <td>Jun-00</td>\n",
       "      <td>0.0</td>\n",
       "      <td>41.0</td>\n",
       "      <td>NaN</td>\n",
       "      <td>10.0</td>\n",
       "      <td>0.0</td>\n",
       "      <td>19878.0</td>\n",
       "      <td>66.30%</td>\n",
       "      <td>17.0</td>\n",
       "      <td>f</td>\n",
       "    </tr>\n",
       "    <tr>\n",
       "      <th>3</th>\n",
       "      <td>13.11%</td>\n",
       "      <td>57245.0</td>\n",
       "      <td>138150.0</td>\n",
       "      <td>$1,200</td>\n",
       "      <td>$1,200</td>\n",
       "      <td>$1,200</td>\n",
       "      <td>36 months</td>\n",
       "      <td>C</td>\n",
       "      <td>C2</td>\n",
       "      <td>city of beaumont texas</td>\n",
       "      <td>...</td>\n",
       "      <td>Jan-85</td>\n",
       "      <td>0.0</td>\n",
       "      <td>64.0</td>\n",
       "      <td>NaN</td>\n",
       "      <td>5.0</td>\n",
       "      <td>0.0</td>\n",
       "      <td>2584.0</td>\n",
       "      <td>40.40%</td>\n",
       "      <td>31.0</td>\n",
       "      <td>f</td>\n",
       "    </tr>\n",
       "    <tr>\n",
       "      <th>4</th>\n",
       "      <td>13.57%</td>\n",
       "      <td>57416.0</td>\n",
       "      <td>139635.0</td>\n",
       "      <td>$10,800</td>\n",
       "      <td>$10,800</td>\n",
       "      <td>$10,692</td>\n",
       "      <td>36 months</td>\n",
       "      <td>C</td>\n",
       "      <td>C3</td>\n",
       "      <td>State Farm Insurance</td>\n",
       "      <td>...</td>\n",
       "      <td>Dec-96</td>\n",
       "      <td>1.0</td>\n",
       "      <td>58.0</td>\n",
       "      <td>NaN</td>\n",
       "      <td>14.0</td>\n",
       "      <td>0.0</td>\n",
       "      <td>3511.0</td>\n",
       "      <td>25.60%</td>\n",
       "      <td>40.0</td>\n",
       "      <td>f</td>\n",
       "    </tr>\n",
       "  </tbody>\n",
       "</table>\n",
       "<p>5 rows × 32 columns</p>\n",
       "</div>"
      ],
      "text/plain": [
       "       X1       X2        X3       X4       X5       X6          X7 X8  X9  \\\n",
       "0  11.89%  54734.0   80364.0  $25,000  $25,000  $19,080   36 months  B  B4   \n",
       "1  10.71%  55742.0  114426.0   $7,000   $7,000     $673   36 months  B  B5   \n",
       "2  16.99%  57167.0  137225.0  $25,000  $25,000  $24,725   36 months  D  D3   \n",
       "3  13.11%  57245.0  138150.0   $1,200   $1,200   $1,200   36 months  C  C2   \n",
       "4  13.57%  57416.0  139635.0  $10,800  $10,800  $10,692   36 months  C  C3   \n",
       "\n",
       "                      X10  ...     X23  X24   X25 X26   X27  X28      X29  \\\n",
       "0                     NaN  ...  Feb-94  0.0   NaN NaN  10.0  0.0  28854.0   \n",
       "1                     CNN  ...  Oct-00  0.0   NaN NaN   7.0  0.0  33623.0   \n",
       "2          Web Programmer  ...  Jun-00  0.0  41.0 NaN  10.0  0.0  19878.0   \n",
       "3  city of beaumont texas  ...  Jan-85  0.0  64.0 NaN   5.0  0.0   2584.0   \n",
       "4    State Farm Insurance  ...  Dec-96  1.0  58.0 NaN  14.0  0.0   3511.0   \n",
       "\n",
       "      X30   X31 X32  \n",
       "0  52.10%  42.0   f  \n",
       "1  76.70%   7.0   f  \n",
       "2  66.30%  17.0   f  \n",
       "3  40.40%  31.0   f  \n",
       "4  25.60%  40.0   f  \n",
       "\n",
       "[5 rows x 32 columns]"
      ]
     },
     "execution_count": 2,
     "metadata": {},
     "output_type": "execute_result"
    }
   ],
   "source": [
    "train = pd.read_csv('Data for Cleaning & Modeling.csv', engine='python')\n",
    "train.head()"
   ]
  },
  {
   "cell_type": "code",
   "execution_count": 3,
   "metadata": {},
   "outputs": [
    {
     "data": {
      "text/html": [
       "<div>\n",
       "<style scoped>\n",
       "    .dataframe tbody tr th:only-of-type {\n",
       "        vertical-align: middle;\n",
       "    }\n",
       "\n",
       "    .dataframe tbody tr th {\n",
       "        vertical-align: top;\n",
       "    }\n",
       "\n",
       "    .dataframe thead th {\n",
       "        text-align: right;\n",
       "    }\n",
       "</style>\n",
       "<table border=\"1\" class=\"dataframe\">\n",
       "  <thead>\n",
       "    <tr style=\"text-align: right;\">\n",
       "      <th></th>\n",
       "      <th>X1</th>\n",
       "      <th>X2</th>\n",
       "      <th>X3</th>\n",
       "      <th>X4</th>\n",
       "      <th>X5</th>\n",
       "      <th>X6</th>\n",
       "      <th>X7</th>\n",
       "      <th>X8</th>\n",
       "      <th>X9</th>\n",
       "      <th>X10</th>\n",
       "      <th>...</th>\n",
       "      <th>X23</th>\n",
       "      <th>X24</th>\n",
       "      <th>X25</th>\n",
       "      <th>X26</th>\n",
       "      <th>X27</th>\n",
       "      <th>X28</th>\n",
       "      <th>X29</th>\n",
       "      <th>X30</th>\n",
       "      <th>X31</th>\n",
       "      <th>X32</th>\n",
       "    </tr>\n",
       "  </thead>\n",
       "  <tbody>\n",
       "    <tr>\n",
       "      <th>0</th>\n",
       "      <td>NaN</td>\n",
       "      <td>44409194</td>\n",
       "      <td>47416907</td>\n",
       "      <td>$6,000</td>\n",
       "      <td>$6,000</td>\n",
       "      <td>$6,000</td>\n",
       "      <td>36 months</td>\n",
       "      <td>C</td>\n",
       "      <td>C5</td>\n",
       "      <td>Electrician</td>\n",
       "      <td>...</td>\n",
       "      <td>2-Nov</td>\n",
       "      <td>1</td>\n",
       "      <td>26.0</td>\n",
       "      <td>NaN</td>\n",
       "      <td>18</td>\n",
       "      <td>0</td>\n",
       "      <td>19861</td>\n",
       "      <td>64.50%</td>\n",
       "      <td>33</td>\n",
       "      <td>f</td>\n",
       "    </tr>\n",
       "    <tr>\n",
       "      <th>1</th>\n",
       "      <td>NaN</td>\n",
       "      <td>44017917</td>\n",
       "      <td>47034722</td>\n",
       "      <td>$24,000</td>\n",
       "      <td>$24,000</td>\n",
       "      <td>$24,000</td>\n",
       "      <td>36 months</td>\n",
       "      <td>A</td>\n",
       "      <td>A1</td>\n",
       "      <td>Executive Assistant</td>\n",
       "      <td>...</td>\n",
       "      <td>Dec-68</td>\n",
       "      <td>1</td>\n",
       "      <td>NaN</td>\n",
       "      <td>NaN</td>\n",
       "      <td>12</td>\n",
       "      <td>0</td>\n",
       "      <td>17001</td>\n",
       "      <td>26.20%</td>\n",
       "      <td>36</td>\n",
       "      <td>w</td>\n",
       "    </tr>\n",
       "    <tr>\n",
       "      <th>2</th>\n",
       "      <td>NaN</td>\n",
       "      <td>44259158</td>\n",
       "      <td>47306871</td>\n",
       "      <td>$35,000</td>\n",
       "      <td>$35,000</td>\n",
       "      <td>$35,000</td>\n",
       "      <td>36 months</td>\n",
       "      <td>C</td>\n",
       "      <td>C2</td>\n",
       "      <td>District Sales Leader</td>\n",
       "      <td>...</td>\n",
       "      <td>Oct-98</td>\n",
       "      <td>0</td>\n",
       "      <td>NaN</td>\n",
       "      <td>NaN</td>\n",
       "      <td>16</td>\n",
       "      <td>0</td>\n",
       "      <td>25797</td>\n",
       "      <td>49.90%</td>\n",
       "      <td>33</td>\n",
       "      <td>w</td>\n",
       "    </tr>\n",
       "    <tr>\n",
       "      <th>3</th>\n",
       "      <td>NaN</td>\n",
       "      <td>44429213</td>\n",
       "      <td>47476932</td>\n",
       "      <td>$10,000</td>\n",
       "      <td>$10,000</td>\n",
       "      <td>$10,000</td>\n",
       "      <td>60 months</td>\n",
       "      <td>D</td>\n",
       "      <td>D1</td>\n",
       "      <td>pharmacy associate</td>\n",
       "      <td>...</td>\n",
       "      <td>Feb-99</td>\n",
       "      <td>1</td>\n",
       "      <td>NaN</td>\n",
       "      <td>114.0</td>\n",
       "      <td>13</td>\n",
       "      <td>1</td>\n",
       "      <td>9586</td>\n",
       "      <td>43.80%</td>\n",
       "      <td>21</td>\n",
       "      <td>w</td>\n",
       "    </tr>\n",
       "    <tr>\n",
       "      <th>4</th>\n",
       "      <td>NaN</td>\n",
       "      <td>44299188</td>\n",
       "      <td>47346901</td>\n",
       "      <td>$24,000</td>\n",
       "      <td>$24,000</td>\n",
       "      <td>$24,000</td>\n",
       "      <td>60 months</td>\n",
       "      <td>B</td>\n",
       "      <td>B1</td>\n",
       "      <td>Medical case manager</td>\n",
       "      <td>...</td>\n",
       "      <td>2-Dec</td>\n",
       "      <td>0</td>\n",
       "      <td>48.0</td>\n",
       "      <td>NaN</td>\n",
       "      <td>27</td>\n",
       "      <td>0</td>\n",
       "      <td>31842</td>\n",
       "      <td>41.30%</td>\n",
       "      <td>43</td>\n",
       "      <td>w</td>\n",
       "    </tr>\n",
       "  </tbody>\n",
       "</table>\n",
       "<p>5 rows × 32 columns</p>\n",
       "</div>"
      ],
      "text/plain": [
       "   X1        X2        X3       X4       X5       X6          X7 X8  X9  \\\n",
       "0 NaN  44409194  47416907   $6,000   $6,000   $6,000   36 months  C  C5   \n",
       "1 NaN  44017917  47034722  $24,000  $24,000  $24,000   36 months  A  A1   \n",
       "2 NaN  44259158  47306871  $35,000  $35,000  $35,000   36 months  C  C2   \n",
       "3 NaN  44429213  47476932  $10,000  $10,000  $10,000   60 months  D  D1   \n",
       "4 NaN  44299188  47346901  $24,000  $24,000  $24,000   60 months  B  B1   \n",
       "\n",
       "                     X10  ...     X23 X24   X25    X26 X27 X28    X29     X30  \\\n",
       "0            Electrician  ...   2-Nov   1  26.0    NaN  18   0  19861  64.50%   \n",
       "1    Executive Assistant  ...  Dec-68   1   NaN    NaN  12   0  17001  26.20%   \n",
       "2  District Sales Leader  ...  Oct-98   0   NaN    NaN  16   0  25797  49.90%   \n",
       "3     pharmacy associate  ...  Feb-99   1   NaN  114.0  13   1   9586  43.80%   \n",
       "4   Medical case manager  ...   2-Dec   0  48.0    NaN  27   0  31842  41.30%   \n",
       "\n",
       "  X31 X32  \n",
       "0  33   f  \n",
       "1  36   w  \n",
       "2  33   w  \n",
       "3  21   w  \n",
       "4  43   w  \n",
       "\n",
       "[5 rows x 32 columns]"
      ]
     },
     "execution_count": 3,
     "metadata": {},
     "output_type": "execute_result"
    }
   ],
   "source": [
    "test = pd.read_csv('Holdout for Testing.csv')\n",
    "test.head()"
   ]
  },
  {
   "cell_type": "code",
   "execution_count": null,
   "metadata": {},
   "outputs": [],
   "source": [
    "#metadata = pd.read_csv('Metadata.csv', engine = 'python')\n",
    "#metadata"
   ]
  },
  {
   "cell_type": "code",
   "execution_count": 4,
   "metadata": {},
   "outputs": [
    {
     "data": {
      "text/plain": [
       "X1      61010\n",
       "X2          1\n",
       "X3          1\n",
       "X4          1\n",
       "X5          1\n",
       "X6          1\n",
       "X7          1\n",
       "X8      61270\n",
       "X9      61270\n",
       "X10     23986\n",
       "X11     17538\n",
       "X12     61361\n",
       "X13     61028\n",
       "X14         1\n",
       "X15         1\n",
       "X16    276440\n",
       "X17         1\n",
       "X18        19\n",
       "X19         1\n",
       "X20         1\n",
       "X21         1\n",
       "X22         1\n",
       "X23         1\n",
       "X24         1\n",
       "X25    218802\n",
       "X26    348845\n",
       "X27         1\n",
       "X28         1\n",
       "X29         1\n",
       "X30       267\n",
       "X31         1\n",
       "X32         1\n",
       "dtype: int64"
      ]
     },
     "execution_count": 4,
     "metadata": {},
     "output_type": "execute_result"
    }
   ],
   "source": [
    "#Check missing value number\n",
    "train.isnull().sum()"
   ]
  },
  {
   "cell_type": "markdown",
   "metadata": {},
   "source": [
    "Quickly check the missing value, we might drop 'X16', 'X25', and 'X26'."
   ]
  },
  {
   "cell_type": "markdown",
   "metadata": {},
   "source": [
    "#### Step 1. Data Exploration & Data Cleaning"
   ]
  },
  {
   "cell_type": "code",
   "execution_count": 5,
   "metadata": {},
   "outputs": [
    {
     "data": {
      "text/plain": [
       "0         0.1189\n",
       "1         0.1071\n",
       "2         0.1699\n",
       "3         0.1311\n",
       "4         0.1357\n",
       "           ...  \n",
       "399995    0.1299\n",
       "399996    0.1629\n",
       "399997    0.1099\n",
       "399998    0.1757\n",
       "399999    0.1335\n",
       "Name: X1, Length: 400000, dtype: float64"
      ]
     },
     "execution_count": 5,
     "metadata": {},
     "output_type": "execute_result"
    }
   ],
   "source": [
    "#Transforming X1 of train data to floats\n",
    "train['X1'] = train['X1'].str.rstrip('%').astype('float')/100\n",
    "train['X1']"
   ]
  },
  {
   "cell_type": "code",
   "execution_count": 6,
   "metadata": {},
   "outputs": [],
   "source": [
    "#Remove '$'\n",
    "data = [train, test]\n",
    "\n",
    "for df in data:\n",
    "    df['X4'] = df['X4'].str.replace('$', '').str.replace(',', '').astype(float)\n",
    "    df['X5'] = df['X5'].str.replace('$', '').str.replace(',', '').astype(float)\n",
    "    df['X6'] = df['X6'].str.replace('$', '').str.replace(',', '').astype(float)\n",
    "    df['X30'] = df['X30'].str.rstrip('%').astype('float')/100"
   ]
  },
  {
   "cell_type": "code",
   "execution_count": 7,
   "metadata": {},
   "outputs": [
    {
     "data": {
      "text/plain": [
       "0         25000.0\n",
       "1          7000.0\n",
       "2         25000.0\n",
       "3          1200.0\n",
       "4         10800.0\n",
       "           ...   \n",
       "399995    10000.0\n",
       "399996    13150.0\n",
       "399997    20000.0\n",
       "399998    18475.0\n",
       "399999    16000.0\n",
       "Name: X4, Length: 400000, dtype: float64"
      ]
     },
     "execution_count": 7,
     "metadata": {},
     "output_type": "execute_result"
    }
   ],
   "source": [
    "#Check outcome\n",
    "train['X4']"
   ]
  },
  {
   "cell_type": "code",
   "execution_count": 8,
   "metadata": {},
   "outputs": [],
   "source": [
    "#Filling missing values of numeric variables\n",
    "data = [train, test]\n",
    "\n",
    "for df in data:\n",
    "    df['X4'] = df['X4'].interpolate()\n",
    "    df['X5'] = df['X5'].interpolate()\n",
    "    df['X6'] = df['X6'].interpolate()\n",
    "    df['X21'] = df['X21'].interpolate()\n",
    "    df['X22'] = df['X22'].interpolate()\n",
    "    df['X24'] = df['X24'].interpolate()\n",
    "    df['X27'] = df['X27'].interpolate()\n",
    "    df['X28'] = df['X28'].interpolate()\n",
    "    df['X29'] = df['X29'].interpolate()\n",
    "    df['X30'] = df['X30'].interpolate()\n",
    "    df['X31'] = df['X31'].interpolate()"
   ]
  },
  {
   "cell_type": "code",
   "execution_count": 9,
   "metadata": {},
   "outputs": [
    {
     "data": {
      "text/plain": [
       "False"
      ]
     },
     "execution_count": 9,
     "metadata": {},
     "output_type": "execute_result"
    }
   ],
   "source": [
    "train['X4'].isnull().any()"
   ]
  },
  {
   "cell_type": "code",
   "execution_count": 10,
   "metadata": {},
   "outputs": [],
   "source": [
    "#Filling missing values of categorical variables\n",
    "data = [train, test]\n",
    "\n",
    "for df in data:\n",
    "    df['X8'] = df['X8'].fillna('NA')\n",
    "    df['X9'] = df['X9'].fillna('NA')\n",
    "    df['X11'] = df['X11'].fillna('NA')\n",
    "    df['X12'] = df['X12'].fillna('NA')\n",
    "    df['X14'] = df['X14'].fillna('NA')\n",
    "    df['X17'] = df['X17'].fillna('NA')\n",
    "    df['X32'] = df['X32'].fillna('NA')"
   ]
  },
  {
   "cell_type": "code",
   "execution_count": 11,
   "metadata": {},
   "outputs": [
    {
     "data": {
      "text/html": [
       "<div>\n",
       "<style scoped>\n",
       "    .dataframe tbody tr th:only-of-type {\n",
       "        vertical-align: middle;\n",
       "    }\n",
       "\n",
       "    .dataframe tbody tr th {\n",
       "        vertical-align: top;\n",
       "    }\n",
       "\n",
       "    .dataframe thead th {\n",
       "        text-align: right;\n",
       "    }\n",
       "</style>\n",
       "<table border=\"1\" class=\"dataframe\">\n",
       "  <thead>\n",
       "    <tr style=\"text-align: right;\">\n",
       "      <th></th>\n",
       "      <th>X1</th>\n",
       "      <th>X2</th>\n",
       "      <th>X3</th>\n",
       "      <th>X4</th>\n",
       "      <th>X5</th>\n",
       "      <th>X6</th>\n",
       "      <th>X13</th>\n",
       "      <th>X21</th>\n",
       "      <th>X22</th>\n",
       "      <th>X24</th>\n",
       "      <th>X25</th>\n",
       "      <th>X26</th>\n",
       "      <th>X27</th>\n",
       "      <th>X28</th>\n",
       "      <th>X29</th>\n",
       "      <th>X30</th>\n",
       "      <th>X31</th>\n",
       "    </tr>\n",
       "  </thead>\n",
       "  <tbody>\n",
       "    <tr>\n",
       "      <th>X1</th>\n",
       "      <td>1.000000</td>\n",
       "      <td>0.033545</td>\n",
       "      <td>0.035069</td>\n",
       "      <td>0.177731</td>\n",
       "      <td>0.178725</td>\n",
       "      <td>0.181029</td>\n",
       "      <td>-0.032207</td>\n",
       "      <td>0.158102</td>\n",
       "      <td>0.091660</td>\n",
       "      <td>0.210397</td>\n",
       "      <td>-0.058441</td>\n",
       "      <td>-0.034513</td>\n",
       "      <td>0.020452</td>\n",
       "      <td>0.073578</td>\n",
       "      <td>0.008172</td>\n",
       "      <td>0.342415</td>\n",
       "      <td>-0.027147</td>\n",
       "    </tr>\n",
       "    <tr>\n",
       "      <th>X2</th>\n",
       "      <td>0.033545</td>\n",
       "      <td>1.000000</td>\n",
       "      <td>0.994894</td>\n",
       "      <td>0.074648</td>\n",
       "      <td>0.078812</td>\n",
       "      <td>0.087005</td>\n",
       "      <td>0.032964</td>\n",
       "      <td>0.119845</td>\n",
       "      <td>0.078974</td>\n",
       "      <td>-0.015826</td>\n",
       "      <td>-0.040541</td>\n",
       "      <td>-0.159457</td>\n",
       "      <td>0.115167</td>\n",
       "      <td>0.122491</td>\n",
       "      <td>0.022592</td>\n",
       "      <td>-0.007744</td>\n",
       "      <td>0.093876</td>\n",
       "    </tr>\n",
       "    <tr>\n",
       "      <th>X3</th>\n",
       "      <td>0.035069</td>\n",
       "      <td>0.994894</td>\n",
       "      <td>1.000000</td>\n",
       "      <td>0.077571</td>\n",
       "      <td>0.081868</td>\n",
       "      <td>0.090367</td>\n",
       "      <td>0.033507</td>\n",
       "      <td>0.118335</td>\n",
       "      <td>0.078849</td>\n",
       "      <td>-0.017545</td>\n",
       "      <td>-0.040254</td>\n",
       "      <td>-0.153880</td>\n",
       "      <td>0.113991</td>\n",
       "      <td>0.124480</td>\n",
       "      <td>0.022683</td>\n",
       "      <td>-0.006497</td>\n",
       "      <td>0.092768</td>\n",
       "    </tr>\n",
       "    <tr>\n",
       "      <th>X4</th>\n",
       "      <td>0.177731</td>\n",
       "      <td>0.074648</td>\n",
       "      <td>0.077571</td>\n",
       "      <td>1.000000</td>\n",
       "      <td>0.998358</td>\n",
       "      <td>0.994675</td>\n",
       "      <td>0.359734</td>\n",
       "      <td>0.060623</td>\n",
       "      <td>0.008905</td>\n",
       "      <td>-0.002422</td>\n",
       "      <td>-0.041572</td>\n",
       "      <td>0.009126</td>\n",
       "      <td>0.204428</td>\n",
       "      <td>-0.078938</td>\n",
       "      <td>0.336650</td>\n",
       "      <td>0.117031</td>\n",
       "      <td>0.237455</td>\n",
       "    </tr>\n",
       "    <tr>\n",
       "      <th>X5</th>\n",
       "      <td>0.178725</td>\n",
       "      <td>0.078812</td>\n",
       "      <td>0.081868</td>\n",
       "      <td>0.998358</td>\n",
       "      <td>1.000000</td>\n",
       "      <td>0.996634</td>\n",
       "      <td>0.359130</td>\n",
       "      <td>0.062106</td>\n",
       "      <td>0.009519</td>\n",
       "      <td>-0.002642</td>\n",
       "      <td>-0.041704</td>\n",
       "      <td>0.008723</td>\n",
       "      <td>0.205362</td>\n",
       "      <td>-0.078351</td>\n",
       "      <td>0.336277</td>\n",
       "      <td>0.118359</td>\n",
       "      <td>0.237338</td>\n",
       "    </tr>\n",
       "    <tr>\n",
       "      <th>X6</th>\n",
       "      <td>0.181029</td>\n",
       "      <td>0.087005</td>\n",
       "      <td>0.090367</td>\n",
       "      <td>0.994675</td>\n",
       "      <td>0.996634</td>\n",
       "      <td>1.000000</td>\n",
       "      <td>0.357265</td>\n",
       "      <td>0.065765</td>\n",
       "      <td>0.010339</td>\n",
       "      <td>-0.004095</td>\n",
       "      <td>-0.038505</td>\n",
       "      <td>0.042647</td>\n",
       "      <td>0.206348</td>\n",
       "      <td>-0.076846</td>\n",
       "      <td>0.334836</td>\n",
       "      <td>0.120629</td>\n",
       "      <td>0.237691</td>\n",
       "    </tr>\n",
       "    <tr>\n",
       "      <th>X13</th>\n",
       "      <td>-0.032207</td>\n",
       "      <td>0.032964</td>\n",
       "      <td>0.033507</td>\n",
       "      <td>0.359734</td>\n",
       "      <td>0.359130</td>\n",
       "      <td>0.357265</td>\n",
       "      <td>1.000000</td>\n",
       "      <td>-0.183002</td>\n",
       "      <td>0.060688</td>\n",
       "      <td>0.064709</td>\n",
       "      <td>-0.057152</td>\n",
       "      <td>-0.099963</td>\n",
       "      <td>0.154522</td>\n",
       "      <td>-0.016127</td>\n",
       "      <td>0.325022</td>\n",
       "      <td>0.033615</td>\n",
       "      <td>0.222566</td>\n",
       "    </tr>\n",
       "    <tr>\n",
       "      <th>X21</th>\n",
       "      <td>0.158102</td>\n",
       "      <td>0.119845</td>\n",
       "      <td>0.118335</td>\n",
       "      <td>0.060623</td>\n",
       "      <td>0.062106</td>\n",
       "      <td>0.065765</td>\n",
       "      <td>-0.183002</td>\n",
       "      <td>1.000000</td>\n",
       "      <td>-0.001999</td>\n",
       "      <td>0.000231</td>\n",
       "      <td>0.005659</td>\n",
       "      <td>0.083346</td>\n",
       "      <td>0.305151</td>\n",
       "      <td>-0.046225</td>\n",
       "      <td>0.147925</td>\n",
       "      <td>0.206736</td>\n",
       "      <td>0.229760</td>\n",
       "    </tr>\n",
       "    <tr>\n",
       "      <th>X22</th>\n",
       "      <td>0.091660</td>\n",
       "      <td>0.078974</td>\n",
       "      <td>0.078849</td>\n",
       "      <td>0.008905</td>\n",
       "      <td>0.009519</td>\n",
       "      <td>0.010339</td>\n",
       "      <td>0.060688</td>\n",
       "      <td>-0.001999</td>\n",
       "      <td>1.000000</td>\n",
       "      <td>0.024421</td>\n",
       "      <td>-0.578255</td>\n",
       "      <td>-0.075937</td>\n",
       "      <td>0.061907</td>\n",
       "      <td>-0.009066</td>\n",
       "      <td>-0.030508</td>\n",
       "      <td>-0.011373</td>\n",
       "      <td>0.133576</td>\n",
       "    </tr>\n",
       "    <tr>\n",
       "      <th>X24</th>\n",
       "      <td>0.210397</td>\n",
       "      <td>-0.015826</td>\n",
       "      <td>-0.017545</td>\n",
       "      <td>-0.002422</td>\n",
       "      <td>-0.002642</td>\n",
       "      <td>-0.004095</td>\n",
       "      <td>0.064709</td>\n",
       "      <td>0.000231</td>\n",
       "      <td>0.024421</td>\n",
       "      <td>1.000000</td>\n",
       "      <td>0.006220</td>\n",
       "      <td>-0.088601</td>\n",
       "      <td>0.099851</td>\n",
       "      <td>0.039298</td>\n",
       "      <td>-0.015204</td>\n",
       "      <td>-0.096009</td>\n",
       "      <td>0.134220</td>\n",
       "    </tr>\n",
       "    <tr>\n",
       "      <th>X25</th>\n",
       "      <td>-0.058441</td>\n",
       "      <td>-0.040541</td>\n",
       "      <td>-0.040254</td>\n",
       "      <td>-0.041572</td>\n",
       "      <td>-0.041704</td>\n",
       "      <td>-0.038505</td>\n",
       "      <td>-0.057152</td>\n",
       "      <td>0.005659</td>\n",
       "      <td>-0.578255</td>\n",
       "      <td>0.006220</td>\n",
       "      <td>1.000000</td>\n",
       "      <td>0.013552</td>\n",
       "      <td>-0.050316</td>\n",
       "      <td>0.084012</td>\n",
       "      <td>-0.025075</td>\n",
       "      <td>0.026157</td>\n",
       "      <td>-0.063900</td>\n",
       "    </tr>\n",
       "    <tr>\n",
       "      <th>X26</th>\n",
       "      <td>-0.034513</td>\n",
       "      <td>-0.159457</td>\n",
       "      <td>-0.153880</td>\n",
       "      <td>0.009126</td>\n",
       "      <td>0.008723</td>\n",
       "      <td>0.042647</td>\n",
       "      <td>-0.099963</td>\n",
       "      <td>0.083346</td>\n",
       "      <td>-0.075937</td>\n",
       "      <td>-0.088601</td>\n",
       "      <td>0.013552</td>\n",
       "      <td>1.000000</td>\n",
       "      <td>-0.011314</td>\n",
       "      <td>-0.195652</td>\n",
       "      <td>-0.008244</td>\n",
       "      <td>0.134283</td>\n",
       "      <td>-0.256444</td>\n",
       "    </tr>\n",
       "    <tr>\n",
       "      <th>X27</th>\n",
       "      <td>0.020452</td>\n",
       "      <td>0.115167</td>\n",
       "      <td>0.113991</td>\n",
       "      <td>0.204428</td>\n",
       "      <td>0.205362</td>\n",
       "      <td>0.206348</td>\n",
       "      <td>0.154522</td>\n",
       "      <td>0.305151</td>\n",
       "      <td>0.061907</td>\n",
       "      <td>0.099851</td>\n",
       "      <td>-0.050316</td>\n",
       "      <td>-0.011314</td>\n",
       "      <td>1.000000</td>\n",
       "      <td>-0.030889</td>\n",
       "      <td>0.224595</td>\n",
       "      <td>-0.118205</td>\n",
       "      <td>0.677354</td>\n",
       "    </tr>\n",
       "    <tr>\n",
       "      <th>X28</th>\n",
       "      <td>0.073578</td>\n",
       "      <td>0.122491</td>\n",
       "      <td>0.124480</td>\n",
       "      <td>-0.078938</td>\n",
       "      <td>-0.078351</td>\n",
       "      <td>-0.076846</td>\n",
       "      <td>-0.016127</td>\n",
       "      <td>-0.046225</td>\n",
       "      <td>-0.009066</td>\n",
       "      <td>0.039298</td>\n",
       "      <td>0.084012</td>\n",
       "      <td>-0.195652</td>\n",
       "      <td>-0.030889</td>\n",
       "      <td>1.000000</td>\n",
       "      <td>-0.097762</td>\n",
       "      <td>-0.055874</td>\n",
       "      <td>0.004092</td>\n",
       "    </tr>\n",
       "    <tr>\n",
       "      <th>X29</th>\n",
       "      <td>0.008172</td>\n",
       "      <td>0.022592</td>\n",
       "      <td>0.022683</td>\n",
       "      <td>0.336650</td>\n",
       "      <td>0.336277</td>\n",
       "      <td>0.334836</td>\n",
       "      <td>0.325022</td>\n",
       "      <td>0.147925</td>\n",
       "      <td>-0.030508</td>\n",
       "      <td>-0.015204</td>\n",
       "      <td>-0.025075</td>\n",
       "      <td>-0.008244</td>\n",
       "      <td>0.224595</td>\n",
       "      <td>-0.097762</td>\n",
       "      <td>1.000000</td>\n",
       "      <td>0.212739</td>\n",
       "      <td>0.202974</td>\n",
       "    </tr>\n",
       "    <tr>\n",
       "      <th>X30</th>\n",
       "      <td>0.342415</td>\n",
       "      <td>-0.007744</td>\n",
       "      <td>-0.006497</td>\n",
       "      <td>0.117031</td>\n",
       "      <td>0.118359</td>\n",
       "      <td>0.120629</td>\n",
       "      <td>0.033615</td>\n",
       "      <td>0.206736</td>\n",
       "      <td>-0.011373</td>\n",
       "      <td>-0.096009</td>\n",
       "      <td>0.026157</td>\n",
       "      <td>0.134283</td>\n",
       "      <td>-0.118205</td>\n",
       "      <td>-0.055874</td>\n",
       "      <td>0.212739</td>\n",
       "      <td>1.000000</td>\n",
       "      <td>-0.089019</td>\n",
       "    </tr>\n",
       "    <tr>\n",
       "      <th>X31</th>\n",
       "      <td>-0.027147</td>\n",
       "      <td>0.093876</td>\n",
       "      <td>0.092768</td>\n",
       "      <td>0.237455</td>\n",
       "      <td>0.237338</td>\n",
       "      <td>0.237691</td>\n",
       "      <td>0.222566</td>\n",
       "      <td>0.229760</td>\n",
       "      <td>0.133576</td>\n",
       "      <td>0.134220</td>\n",
       "      <td>-0.063900</td>\n",
       "      <td>-0.256444</td>\n",
       "      <td>0.677354</td>\n",
       "      <td>0.004092</td>\n",
       "      <td>0.202974</td>\n",
       "      <td>-0.089019</td>\n",
       "      <td>1.000000</td>\n",
       "    </tr>\n",
       "  </tbody>\n",
       "</table>\n",
       "</div>"
      ],
      "text/plain": [
       "           X1        X2        X3        X4        X5        X6       X13  \\\n",
       "X1   1.000000  0.033545  0.035069  0.177731  0.178725  0.181029 -0.032207   \n",
       "X2   0.033545  1.000000  0.994894  0.074648  0.078812  0.087005  0.032964   \n",
       "X3   0.035069  0.994894  1.000000  0.077571  0.081868  0.090367  0.033507   \n",
       "X4   0.177731  0.074648  0.077571  1.000000  0.998358  0.994675  0.359734   \n",
       "X5   0.178725  0.078812  0.081868  0.998358  1.000000  0.996634  0.359130   \n",
       "X6   0.181029  0.087005  0.090367  0.994675  0.996634  1.000000  0.357265   \n",
       "X13 -0.032207  0.032964  0.033507  0.359734  0.359130  0.357265  1.000000   \n",
       "X21  0.158102  0.119845  0.118335  0.060623  0.062106  0.065765 -0.183002   \n",
       "X22  0.091660  0.078974  0.078849  0.008905  0.009519  0.010339  0.060688   \n",
       "X24  0.210397 -0.015826 -0.017545 -0.002422 -0.002642 -0.004095  0.064709   \n",
       "X25 -0.058441 -0.040541 -0.040254 -0.041572 -0.041704 -0.038505 -0.057152   \n",
       "X26 -0.034513 -0.159457 -0.153880  0.009126  0.008723  0.042647 -0.099963   \n",
       "X27  0.020452  0.115167  0.113991  0.204428  0.205362  0.206348  0.154522   \n",
       "X28  0.073578  0.122491  0.124480 -0.078938 -0.078351 -0.076846 -0.016127   \n",
       "X29  0.008172  0.022592  0.022683  0.336650  0.336277  0.334836  0.325022   \n",
       "X30  0.342415 -0.007744 -0.006497  0.117031  0.118359  0.120629  0.033615   \n",
       "X31 -0.027147  0.093876  0.092768  0.237455  0.237338  0.237691  0.222566   \n",
       "\n",
       "          X21       X22       X24       X25       X26       X27       X28  \\\n",
       "X1   0.158102  0.091660  0.210397 -0.058441 -0.034513  0.020452  0.073578   \n",
       "X2   0.119845  0.078974 -0.015826 -0.040541 -0.159457  0.115167  0.122491   \n",
       "X3   0.118335  0.078849 -0.017545 -0.040254 -0.153880  0.113991  0.124480   \n",
       "X4   0.060623  0.008905 -0.002422 -0.041572  0.009126  0.204428 -0.078938   \n",
       "X5   0.062106  0.009519 -0.002642 -0.041704  0.008723  0.205362 -0.078351   \n",
       "X6   0.065765  0.010339 -0.004095 -0.038505  0.042647  0.206348 -0.076846   \n",
       "X13 -0.183002  0.060688  0.064709 -0.057152 -0.099963  0.154522 -0.016127   \n",
       "X21  1.000000 -0.001999  0.000231  0.005659  0.083346  0.305151 -0.046225   \n",
       "X22 -0.001999  1.000000  0.024421 -0.578255 -0.075937  0.061907 -0.009066   \n",
       "X24  0.000231  0.024421  1.000000  0.006220 -0.088601  0.099851  0.039298   \n",
       "X25  0.005659 -0.578255  0.006220  1.000000  0.013552 -0.050316  0.084012   \n",
       "X26  0.083346 -0.075937 -0.088601  0.013552  1.000000 -0.011314 -0.195652   \n",
       "X27  0.305151  0.061907  0.099851 -0.050316 -0.011314  1.000000 -0.030889   \n",
       "X28 -0.046225 -0.009066  0.039298  0.084012 -0.195652 -0.030889  1.000000   \n",
       "X29  0.147925 -0.030508 -0.015204 -0.025075 -0.008244  0.224595 -0.097762   \n",
       "X30  0.206736 -0.011373 -0.096009  0.026157  0.134283 -0.118205 -0.055874   \n",
       "X31  0.229760  0.133576  0.134220 -0.063900 -0.256444  0.677354  0.004092   \n",
       "\n",
       "          X29       X30       X31  \n",
       "X1   0.008172  0.342415 -0.027147  \n",
       "X2   0.022592 -0.007744  0.093876  \n",
       "X3   0.022683 -0.006497  0.092768  \n",
       "X4   0.336650  0.117031  0.237455  \n",
       "X5   0.336277  0.118359  0.237338  \n",
       "X6   0.334836  0.120629  0.237691  \n",
       "X13  0.325022  0.033615  0.222566  \n",
       "X21  0.147925  0.206736  0.229760  \n",
       "X22 -0.030508 -0.011373  0.133576  \n",
       "X24 -0.015204 -0.096009  0.134220  \n",
       "X25 -0.025075  0.026157 -0.063900  \n",
       "X26 -0.008244  0.134283 -0.256444  \n",
       "X27  0.224595 -0.118205  0.677354  \n",
       "X28 -0.097762 -0.055874  0.004092  \n",
       "X29  1.000000  0.212739  0.202974  \n",
       "X30  0.212739  1.000000 -0.089019  \n",
       "X31  0.202974 -0.089019  1.000000  "
      ]
     },
     "execution_count": 11,
     "metadata": {},
     "output_type": "execute_result"
    }
   ],
   "source": [
    "#Explore correlation between the continuous feature variables\n",
    "train.corr()"
   ]
  },
  {
   "cell_type": "code",
   "execution_count": 12,
   "metadata": {},
   "outputs": [
    {
     "data": {
      "text/plain": [
       " 36 months    292369\n",
       " 60 months    107630\n",
       "Name: X7, dtype: int64"
      ]
     },
     "execution_count": 12,
     "metadata": {},
     "output_type": "execute_result"
    }
   ],
   "source": [
    "#Check Number of payments (36 or 60)\n",
    "train['X7'].value_counts()"
   ]
  },
  {
   "cell_type": "code",
   "execution_count": 13,
   "metadata": {},
   "outputs": [
    {
     "data": {
      "text/plain": [
       "<matplotlib.axes._subplots.AxesSubplot at 0x299ca7346a0>"
      ]
     },
     "execution_count": 13,
     "metadata": {},
     "output_type": "execute_result"
    },
    {
     "data": {
      "image/png": "[encoded data removed]",
      "text/plain": [
       "<Figure size 432x288 with 1 Axes>"
      ]
     },
     "metadata": {
      "needs_background": "light"
     },
     "output_type": "display_data"
    }
   ],
   "source": [
    "#Check relationship between interest rate and grades\n",
    "train['X1'].groupby(train['X7']).mean().plot(kind='bar')"
   ]
  },
  {
   "cell_type": "code",
   "execution_count": 14,
   "metadata": {},
   "outputs": [
    {
     "data": {
      "text/plain": [
       "0    0\n",
       "1    0\n",
       "2    0\n",
       "3    0\n",
       "4    0\n",
       "Name: is_long_term, dtype: int64"
      ]
     },
     "execution_count": 14,
     "metadata": {},
     "output_type": "execute_result"
    }
   ],
   "source": [
    "#Assign 'is_long_term', for 1 if 'X7' is '60 months', o for '36 months'\n",
    "data = [train, test]\n",
    "\n",
    "for df in data:\n",
    "    df['is_long_term']=df['X7'].apply(lambda x: 1 if x=='60 months' else 0)\n",
    "\n",
    "train['is_long_term'].head()"
   ]
  },
  {
   "cell_type": "code",
   "execution_count": 15,
   "metadata": {
    "scrolled": true
   },
   "outputs": [
    {
     "data": {
      "text/plain": [
       "array(['B', 'D', 'C', 'A', 'E', 'F', 'NA', 'G'], dtype=object)"
      ]
     },
     "execution_count": 15,
     "metadata": {},
     "output_type": "execute_result"
    }
   ],
   "source": [
    "#Check grades\n",
    "train['X8'].unique()"
   ]
  },
  {
   "cell_type": "code",
   "execution_count": 16,
   "metadata": {},
   "outputs": [
    {
     "data": {
      "text/plain": [
       "array(['B4', 'B5', 'D3', 'C2', 'C3', 'D4', 'B3', 'C5', 'A5', 'D2', 'B1',\n",
       "       'C4', 'A4', 'A3', 'C1', 'E4', 'B2', 'A2', 'E2', 'F4', 'E1', 'D1',\n",
       "       'F1', 'F2', 'A1', 'F3', 'E5', 'D5', 'NA', 'E3', 'G5', 'F5', 'G1',\n",
       "       'G4', 'G3', 'G2'], dtype=object)"
      ]
     },
     "execution_count": 16,
     "metadata": {},
     "output_type": "execute_result"
    }
   ],
   "source": [
    "#Check subgrdes\n",
    "train['X9'].unique()"
   ]
  },
  {
   "cell_type": "markdown",
   "metadata": {},
   "source": [
    "Loan Status possible values are W, F. W stands for whole loans (Borrowers benefit from getting ‘instant funding’). The rest are available for fractional purchase.\n",
    "\n",
    "Ref: https://rstudio-pubs-static.s3.amazonaws.com/303215_bb3e159757314931ac706574b96162b7.html"
   ]
  },
  {
   "cell_type": "code",
   "execution_count": 17,
   "metadata": {},
   "outputs": [
    {
     "data": {
      "text/plain": [
       "<matplotlib.axes._subplots.AxesSubplot at 0x299cac2de50>"
      ]
     },
     "execution_count": 17,
     "metadata": {},
     "output_type": "execute_result"
    },
    {
     "data": {
      "image/png": "[encoded data removed]",
      "text/plain": [
       "<Figure size 432x288 with 1 Axes>"
      ]
     },
     "metadata": {
      "needs_background": "light"
     },
     "output_type": "display_data"
    }
   ],
   "source": [
    "#Check relationship between interest rate and grades\n",
    "train['X1'].groupby(train['X8']).mean().plot(kind='bar')"
   ]
  },
  {
   "cell_type": "code",
   "execution_count": 18,
   "metadata": {},
   "outputs": [
    {
     "data": {
      "text/plain": [
       "<matplotlib.axes._subplots.AxesSubplot at 0x299cc41a9d0>"
      ]
     },
     "execution_count": 18,
     "metadata": {},
     "output_type": "execute_result"
    },
    {
     "data": {
      "image/png": "[encoded data removed]",
      "text/plain": [
       "<Figure size 432x288 with 1 Axes>"
      ]
     },
     "metadata": {
      "needs_background": "light"
     },
     "output_type": "display_data"
    }
   ],
   "source": [
    "#Check relationship between interest rate and subgrades\n",
    "train['X1'].groupby(train['X9']).mean().plot(kind='bar')"
   ]
  },
  {
   "cell_type": "markdown",
   "metadata": {},
   "source": [
    "We can see a clear relationship that grade A has the lowest interest rate and inceasing for the following grades."
   ]
  },
  {
   "cell_type": "markdown",
   "metadata": {},
   "source": [
    "From the plots above, we can find the relationship between interest rate and loan status (f, w) is probably irrelevant, but it's lower with NA.\n",
    "\n",
    "Next, we want to know the the relationship about employed years."
   ]
  },
  {
   "cell_type": "code",
   "execution_count": 19,
   "metadata": {},
   "outputs": [
    {
     "data": {
      "text/plain": [
       "Teacher                             4222\n",
       "Manager                             3410\n",
       "Registered Nurse                    1803\n",
       "RN                                  1711\n",
       "Supervisor                          1512\n",
       "                                    ... \n",
       "Loan Ops Manager                       1\n",
       "LyondellBasell Industries              1\n",
       "Clovernook Health Care                 1\n",
       "Facility Engineer Asc Manager          1\n",
       "City of Salina Police Department       1\n",
       "Name: X10, Length: 187821, dtype: int64"
      ]
     },
     "execution_count": 19,
     "metadata": {},
     "output_type": "execute_result"
    }
   ],
   "source": [
    "#Number of title\n",
    "train['X10'].value_counts()"
   ]
  },
  {
   "cell_type": "code",
   "execution_count": 20,
   "metadata": {},
   "outputs": [],
   "source": [
    "#Assign 'is_employed', if 'X10' is NA, assign 0 as the candidate is not empoyed\n",
    "data = [train, test]\n",
    "\n",
    "for df in data:\n",
    "    df['is_employed'] = df['X10'].apply(lambda x: 1 if not pd.isnull(x) else 0)"
   ]
  },
  {
   "cell_type": "code",
   "execution_count": 21,
   "metadata": {},
   "outputs": [
    {
     "data": {
      "text/plain": [
       "0         0\n",
       "1         1\n",
       "2         1\n",
       "3         1\n",
       "4         1\n",
       "         ..\n",
       "399995    1\n",
       "399996    1\n",
       "399997    1\n",
       "399998    1\n",
       "399999    1\n",
       "Name: is_employed, Length: 400000, dtype: int64"
      ]
     },
     "execution_count": 21,
     "metadata": {},
     "output_type": "execute_result"
    }
   ],
   "source": [
    "#Check outcome\n",
    "train['is_employed']"
   ]
  },
  {
   "cell_type": "code",
   "execution_count": 22,
   "metadata": {},
   "outputs": [
    {
     "data": {
      "text/plain": [
       "<matplotlib.axes._subplots.AxesSubplot at 0x299cae30ca0>"
      ]
     },
     "execution_count": 22,
     "metadata": {},
     "output_type": "execute_result"
    },
    {
     "data": {
      "image/png": "[encoded data removed]",
      "text/plain": [
       "<Figure size 432x288 with 1 Axes>"
      ]
     },
     "metadata": {
      "needs_background": "light"
     },
     "output_type": "display_data"
    }
   ],
   "source": [
    "#Check relationship between interest rate and employed status\n",
    "train['X1'].groupby(train['is_employed']).mean().plot(kind='bar')"
   ]
  },
  {
   "cell_type": "markdown",
   "metadata": {},
   "source": [
    "It seems like the interest rate doesn't matter with the employed status. Hence, we can drop the job title column later.\n",
    "\n",
    "Next, we want to know the the relationship about employed years."
   ]
  },
  {
   "cell_type": "code",
   "execution_count": 23,
   "metadata": {},
   "outputs": [
    {
     "data": {
      "text/plain": [
       "10+ years    128060\n",
       "2 years       35427\n",
       "3 years       31428\n",
       "< 1 year      30607\n",
       "5 years       27277\n",
       "1 year        25321\n",
       "4 years       24035\n",
       "6 years       23062\n",
       "7 years       22837\n",
       "8 years       19139\n",
       "NA            17538\n",
       "9 years       15269\n",
       "Name: X11, dtype: int64"
      ]
     },
     "execution_count": 23,
     "metadata": {},
     "output_type": "execute_result"
    }
   ],
   "source": [
    "#Number of years employed\n",
    "train['X11'].value_counts()"
   ]
  },
  {
   "cell_type": "code",
   "execution_count": 24,
   "metadata": {},
   "outputs": [
    {
     "data": {
      "text/plain": [
       "<matplotlib.axes._subplots.AxesSubplot at 0x299caa1a910>"
      ]
     },
     "execution_count": 24,
     "metadata": {},
     "output_type": "execute_result"
    },
    {
     "data": {
      "image/png": "[encoded data removed]",
      "text/plain": [
       "<Figure size 432x288 with 1 Axes>"
      ]
     },
     "metadata": {
      "needs_background": "light"
     },
     "output_type": "display_data"
    }
   ],
   "source": [
    "#Check relationship between interest rate and employed years\n",
    "train['X1'].groupby(train['X11']).mean().plot(kind='bar')"
   ]
  },
  {
   "cell_type": "markdown",
   "metadata": {},
   "source": [
    "It seems like the interest rate doesn't matter with the employed years. Hence, we can drop the employed years column later.\n",
    "\n",
    "Next, we want to know the the relationship about home ownership status."
   ]
  },
  {
   "cell_type": "code",
   "execution_count": 25,
   "metadata": {},
   "outputs": [
    {
     "data": {
      "text/plain": [
       "MORTGAGE    172112\n",
       "RENT        136778\n",
       "NA           61361\n",
       "OWN          29588\n",
       "OTHER          124\n",
       "NONE            36\n",
       "ANY              1\n",
       "Name: X12, dtype: int64"
      ]
     },
     "execution_count": 25,
     "metadata": {},
     "output_type": "execute_result"
    }
   ],
   "source": [
    "#Home ownership status\n",
    "train['X12'].value_counts()"
   ]
  },
  {
   "cell_type": "code",
   "execution_count": 26,
   "metadata": {},
   "outputs": [
    {
     "data": {
      "text/plain": [
       "X12\n",
       "ANY         0.116700\n",
       "OTHER       0.130771\n",
       "MORTGAGE    0.136630\n",
       "NA          0.139873\n",
       "OWN         0.140926\n",
       "NONE        0.141663\n",
       "RENT        0.142537\n",
       "Name: X1, dtype: float64"
      ]
     },
     "execution_count": 26,
     "metadata": {},
     "output_type": "execute_result"
    }
   ],
   "source": [
    "#Check relationship between interest rate and home ownership status\n",
    "train['X1'].groupby(train['X12']).mean().sort_values()"
   ]
  },
  {
   "cell_type": "code",
   "execution_count": 27,
   "metadata": {},
   "outputs": [
    {
     "data": {
      "text/plain": [
       "0         H\n",
       "1         H\n",
       "2         H\n",
       "3         H\n",
       "4         H\n",
       "         ..\n",
       "399995    H\n",
       "399996    H\n",
       "399997    M\n",
       "399998    H\n",
       "399999    M\n",
       "Name: is_home, Length: 400000, dtype: object"
      ]
     },
     "execution_count": 27,
     "metadata": {},
     "output_type": "execute_result"
    }
   ],
   "source": [
    "#Create 'is_home' column of home ownership status to three levels.\n",
    "data = [train, test]\n",
    "status_map={'OWN':'H', #High\n",
    "            'NONE':'H',\n",
    "            'RENT':'H',\n",
    "            'OTHER':'M', #Medium\n",
    "            'MORTGAGE':'M',\n",
    "            'NA':'M',\n",
    "            'ANY':'L', #Low\n",
    "            }\n",
    "\n",
    "for df in data:\n",
    "    df['is_home'] = df['X12'].map(status_map)\n",
    "\n",
    "train['is_home']"
   ]
  },
  {
   "cell_type": "markdown",
   "metadata": {},
   "source": [
    "It seems like the interest rate is slight different with home ownership status. Hence, we will keep this column.\n",
    "\n",
    "Next, we want to know the the relationship about annual income of borrowers."
   ]
  },
  {
   "cell_type": "code",
   "execution_count": 28,
   "metadata": {},
   "outputs": [
    {
     "data": {
      "text/plain": [
       "<matplotlib.axes._subplots.AxesSubplot at 0x299ccc1bfa0>"
      ]
     },
     "execution_count": 28,
     "metadata": {},
     "output_type": "execute_result"
    },
    {
     "data": {
      "image/png": "[encoded data removed]",
      "text/plain": [
       "<Figure size 432x288 with 1 Axes>"
      ]
     },
     "metadata": {
      "needs_background": "light"
     },
     "output_type": "display_data"
    }
   ],
   "source": [
    "#Plot the historgram of annual income vs interest rate.\n",
    "train['X1'].groupby(pd.cut(train['X13'], 25)).mean().plot(kind='bar')"
   ]
  },
  {
   "cell_type": "markdown",
   "metadata": {},
   "source": [
    "From the bar plot, there's not obvious trens for the relationship of annual income and there's alot of missing in column 'X13', so my drop this column. "
   ]
  },
  {
   "cell_type": "code",
   "execution_count": 29,
   "metadata": {},
   "outputs": [
    {
     "data": {
      "text/plain": [
       "VERIFIED - income           149686\n",
       "not verified                127220\n",
       "VERIFIED - income source    123093\n",
       "NA                               1\n",
       "Name: X14, dtype: int64"
      ]
     },
     "execution_count": 29,
     "metadata": {},
     "output_type": "execute_result"
    }
   ],
   "source": [
    "#Income verification\n",
    "train['X14'].value_counts()"
   ]
  },
  {
   "cell_type": "code",
   "execution_count": 30,
   "metadata": {},
   "outputs": [
    {
     "data": {
      "text/plain": [
       "<matplotlib.axes._subplots.AxesSubplot at 0x299cbda63a0>"
      ]
     },
     "execution_count": 30,
     "metadata": {},
     "output_type": "execute_result"
    },
    {
     "data": {
      "image/png": "[encoded data removed]",
      "text/plain": [
       "<Figure size 432x288 with 1 Axes>"
      ]
     },
     "metadata": {
      "needs_background": "light"
     },
     "output_type": "display_data"
    }
   ],
   "source": [
    "#Check relationship between interest rate and Income verification\n",
    "train['X1'].groupby(train['X14']).mean().plot(kind='bar')"
   ]
  },
  {
   "cell_type": "code",
   "execution_count": 31,
   "metadata": {},
   "outputs": [
    {
     "data": {
      "text/plain": [
       "Y_income    149686\n",
       "N           127220\n",
       "Y_source    123093\n",
       "NA               1\n",
       "Name: X14, dtype: int64"
      ]
     },
     "execution_count": 31,
     "metadata": {},
     "output_type": "execute_result"
    }
   ],
   "source": [
    "data = [train, test]\n",
    "\n",
    "for df in data:\n",
    "    df['X14'] = df['X14'].replace(['VERIFIED - income'], 'Y_income')\n",
    "    df['X14'] = df['X14'].replace(['VERIFIED - income source'], 'Y_source')\n",
    "    df['X14'] = df['X14'].replace(['not verified'], 'N')\n",
    "\n",
    "train['X14'].value_counts()"
   ]
  },
  {
   "cell_type": "code",
   "execution_count": 32,
   "metadata": {},
   "outputs": [
    {
     "data": {
      "text/plain": [
       "debt_consolidation    233794\n",
       "credit_card            89484\n",
       "home_improvement       23140\n",
       "other                  20161\n",
       "major_purchase          8664\n",
       "small_business          6287\n",
       "car                     4861\n",
       "medical                 3935\n",
       "moving                  2562\n",
       "wedding                 2287\n",
       "vacation                2159\n",
       "house                   2032\n",
       "educational              325\n",
       "renewable_energy         308\n",
       "NA                         1\n",
       "Name: X17, dtype: int64"
      ]
     },
     "execution_count": 32,
     "metadata": {},
     "output_type": "execute_result"
    }
   ],
   "source": [
    "#Loan category\n",
    "train['X17'].value_counts()"
   ]
  },
  {
   "cell_type": "code",
   "execution_count": 33,
   "metadata": {},
   "outputs": [
    {
     "data": {
      "text/plain": [
       "X17\n",
       "NA                    0.076900\n",
       "educational           0.114763\n",
       "car                   0.120443\n",
       "credit_card           0.127408\n",
       "major_purchase        0.128262\n",
       "home_improvement      0.136230\n",
       "wedding               0.141449\n",
       "debt_consolidation    0.142284\n",
       "renewable_energy      0.150287\n",
       "house                 0.150482\n",
       "vacation              0.152806\n",
       "medical               0.154443\n",
       "other                 0.158894\n",
       "small_business        0.158925\n",
       "moving                0.160842\n",
       "Name: X1, dtype: float64"
      ]
     },
     "execution_count": 33,
     "metadata": {},
     "output_type": "execute_result"
    }
   ],
   "source": [
    "#Check relationship between interest rate and Loan category\n",
    "train['X1'].groupby(train['X17']).mean().sort_values()"
   ]
  },
  {
   "cell_type": "code",
   "execution_count": 34,
   "metadata": {},
   "outputs": [
    {
     "data": {
      "text/plain": [
       "0          M\n",
       "1         ML\n",
       "2          M\n",
       "3          M\n",
       "4          M\n",
       "          ..\n",
       "399995    ML\n",
       "399996     M\n",
       "399997    ML\n",
       "399998     M\n",
       "399999     M\n",
       "Name: loan_purpose, Length: 400000, dtype: object"
      ]
     },
     "execution_count": 34,
     "metadata": {},
     "output_type": "execute_result"
    }
   ],
   "source": [
    "#Create 'loan_purpose' column of Loan category to three levels.\n",
    "data = [train, test]\n",
    "status_map={'moving':'H', #High\n",
    "            'small_business':'H',\n",
    "            'other':'H',\n",
    "            'medical':'H',\n",
    "            'vacation':'H',\n",
    "            'house':'H',\n",
    "            'renewable_energy':'H',\n",
    "            'debt_consolidation':'M', #Medium\n",
    "            'wedding':'M',\n",
    "            'home_improvement':'M',\n",
    "            'major_purchase':'ML', #Medium-low\n",
    "            'credit_card':'ML', \n",
    "            'car':'ML',\n",
    "            'educational':'L', #Low\n",
    "            'NA':'L'\n",
    "            }\n",
    "for df in data:\n",
    "    df['loan_purpose'] = df['X17'].map(status_map)\n",
    "\n",
    "train['loan_purpose']"
   ]
  },
  {
   "cell_type": "code",
   "execution_count": 35,
   "metadata": {},
   "outputs": [
    {
     "data": {
      "text/plain": [
       "Debt consolidation                          124758\n",
       "Credit card refinancing                      47942\n",
       "Debt Consolidation                           15692\n",
       "Home improvement                             11654\n",
       "Other                                         9618\n",
       "                                             ...  \n",
       "Bills no more                                    1\n",
       "San Fran Apt                                     1\n",
       "1 payment loan plan                              1\n",
       "Debt-free is the way to be                       1\n",
       "Saying Goodbye to Credit Cards...Forever         1\n",
       "Name: X18, Length: 61629, dtype: int64"
      ]
     },
     "execution_count": 35,
     "metadata": {},
     "output_type": "execute_result"
    }
   ],
   "source": [
    "#Loan Title\n",
    "train['X18'].value_counts()"
   ]
  },
  {
   "cell_type": "markdown",
   "metadata": {},
   "source": [
    "since the titles are too many unique loan titles to try to convert this to a dummy variable feature. we will drop that 'X18' column.\n",
    "\n",
    "Next, we want to know the the relationship about states of borrowers."
   ]
  },
  {
   "cell_type": "code",
   "execution_count": 36,
   "metadata": {},
   "outputs": [
    {
     "data": {
      "text/plain": [
       "X20\n",
       "ID     L\n",
       "IA     L\n",
       "ME     L\n",
       "DC     L\n",
       "MA     L\n",
       "NH     L\n",
       "WI     L\n",
       "CO     L\n",
       "OR     L\n",
       "RI     L\n",
       "MT     L\n",
       "VT     L\n",
       "TX     L\n",
       "MN     M\n",
       "MO     M\n",
       "AZ     M\n",
       "CT     M\n",
       "IL     M\n",
       "CA     M\n",
       "KS     M\n",
       "UT     M\n",
       "GA     M\n",
       "FL     M\n",
       "PA     M\n",
       "OK     M\n",
       "NM    ML\n",
       "SD    ML\n",
       "SC    ML\n",
       "NJ    ML\n",
       "WV    ML\n",
       "VA    ML\n",
       "LA    ML\n",
       "WY    ML\n",
       "MI    ML\n",
       "NY    ML\n",
       "AR    ML\n",
       "KY    ML\n",
       "OH     H\n",
       "WA     H\n",
       "NC     H\n",
       "MD     H\n",
       "NV     H\n",
       "MS     H\n",
       "DE     H\n",
       "AL     H\n",
       "AK     H\n",
       "IN     H\n",
       "TN     H\n",
       "HI     H\n",
       "NE     H\n",
       "Name: X1, dtype: category\n",
       "Categories (4, object): [L < M < ML < H]"
      ]
     },
     "execution_count": 36,
     "metadata": {},
     "output_type": "execute_result"
    }
   ],
   "source": [
    "#Label 4 levels of interest rate based on quatile raneges \n",
    "state_level = train['X1'].groupby(train['X20']).mean().sort_values()\n",
    "state_level['label'] = pd.qcut(state_level, q=4, labels=['L', 'M', 'ML', 'H'])\n",
    "state_level['label']"
   ]
  },
  {
   "cell_type": "code",
   "execution_count": 37,
   "metadata": {},
   "outputs": [
    {
     "data": {
      "text/plain": [
       "0          M\n",
       "1         ML\n",
       "2         ML\n",
       "3          L\n",
       "4          M\n",
       "          ..\n",
       "399995     M\n",
       "399996     L\n",
       "399997     L\n",
       "399998     L\n",
       "399999     L\n",
       "Name: state_level, Length: 400000, dtype: category\n",
       "Categories (4, object): [L < M < ML < H]"
      ]
     },
     "execution_count": 37,
     "metadata": {},
     "output_type": "execute_result"
    }
   ],
   "source": [
    "#Create 'state_level' column of states to three levels based on quantile ranges.\n",
    "data = [train, test]\n",
    "status_map = state_level['label']\n",
    "for df in data:\n",
    "    df['state_level'] = df['X20'].map(status_map)\n",
    "\n",
    "train['state_level']"
   ]
  },
  {
   "cell_type": "code",
   "execution_count": 38,
   "metadata": {},
   "outputs": [
    {
     "data": {
      "text/plain": [
       "<matplotlib.axes._subplots.AxesSubplot at 0x299cb3a1160>"
      ]
     },
     "execution_count": 38,
     "metadata": {},
     "output_type": "execute_result"
    },
    {
     "data": {
      "image/png": "[encoded data removed]",
      "text/plain": [
       "<Figure size 432x288 with 1 Axes>"
      ]
     },
     "metadata": {
      "needs_background": "light"
     },
     "output_type": "display_data"
    }
   ],
   "source": [
    "#Number of open credit lines in the borrower's credit file\n",
    "train['X1'].groupby(train['X27']).mean().plot(kind='bar')"
   ]
  },
  {
   "cell_type": "code",
   "execution_count": 39,
   "metadata": {},
   "outputs": [
    {
     "data": {
      "text/plain": [
       "<matplotlib.axes._subplots.AxesSubplot at 0x299ccd5c2e0>"
      ]
     },
     "execution_count": 39,
     "metadata": {},
     "output_type": "execute_result"
    },
    {
     "data": {
      "image/png": "[encoded data removed]",
      "text/plain": [
       "<Figure size 432x288 with 1 Axes>"
      ]
     },
     "metadata": {
      "needs_background": "light"
     },
     "output_type": "display_data"
    }
   ],
   "source": [
    "#Number of derogatory public records\n",
    "train['X1'].groupby(train['X28']).mean().plot(kind='bar')"
   ]
  },
  {
   "cell_type": "code",
   "execution_count": 40,
   "metadata": {},
   "outputs": [
    {
     "data": {
      "text/plain": [
       "array(['f', 'w', 'NA'], dtype=object)"
      ]
     },
     "execution_count": 40,
     "metadata": {},
     "output_type": "execute_result"
    }
   ],
   "source": [
    "#Check loan status\n",
    "train['X32'].unique()"
   ]
  },
  {
   "cell_type": "code",
   "execution_count": 41,
   "metadata": {},
   "outputs": [
    {
     "data": {
      "text/plain": [
       "<matplotlib.axes._subplots.AxesSubplot at 0x299cc1364c0>"
      ]
     },
     "execution_count": 41,
     "metadata": {},
     "output_type": "execute_result"
    },
    {
     "data": {
      "image/png": "[encoded data removed]",
      "text/plain": [
       "<Figure size 432x288 with 1 Axes>"
      ]
     },
     "metadata": {
      "needs_background": "light"
     },
     "output_type": "display_data"
    }
   ],
   "source": [
    "#Check relationship between interest rate and loan status\n",
    "train['X1'].groupby(train['X32']).mean().plot(kind='bar')"
   ]
  },
  {
   "cell_type": "code",
   "execution_count": 42,
   "metadata": {},
   "outputs": [
    {
     "data": {
      "text/plain": [
       "['X1',\n",
       " 'X2',\n",
       " 'X3',\n",
       " 'X4',\n",
       " 'X5',\n",
       " 'X6',\n",
       " 'X7',\n",
       " 'X8',\n",
       " 'X9',\n",
       " 'X10',\n",
       " 'X11',\n",
       " 'X12',\n",
       " 'X13',\n",
       " 'X14',\n",
       " 'X15',\n",
       " 'X16',\n",
       " 'X17',\n",
       " 'X18',\n",
       " 'X19',\n",
       " 'X20',\n",
       " 'X21',\n",
       " 'X22',\n",
       " 'X23',\n",
       " 'X24',\n",
       " 'X25',\n",
       " 'X26',\n",
       " 'X27',\n",
       " 'X28',\n",
       " 'X29',\n",
       " 'X30',\n",
       " 'X31',\n",
       " 'X32',\n",
       " 'is_long_term',\n",
       " 'is_employed',\n",
       " 'is_home',\n",
       " 'loan_purpose',\n",
       " 'state_level']"
      ]
     },
     "execution_count": 42,
     "metadata": {},
     "output_type": "execute_result"
    }
   ],
   "source": [
    "list(train)"
   ]
  },
  {
   "cell_type": "markdown",
   "metadata": {},
   "source": [
    "#### Section 2: Prepare training dataframe"
   ]
  },
  {
   "cell_type": "code",
   "execution_count": 43,
   "metadata": {},
   "outputs": [
    {
     "data": {
      "text/html": [
       "<div>\n",
       "<style scoped>\n",
       "    .dataframe tbody tr th:only-of-type {\n",
       "        vertical-align: middle;\n",
       "    }\n",
       "\n",
       "    .dataframe tbody tr th {\n",
       "        vertical-align: top;\n",
       "    }\n",
       "\n",
       "    .dataframe thead th {\n",
       "        text-align: right;\n",
       "    }\n",
       "</style>\n",
       "<table border=\"1\" class=\"dataframe\">\n",
       "  <thead>\n",
       "    <tr style=\"text-align: right;\">\n",
       "      <th></th>\n",
       "      <th>X1</th>\n",
       "      <th>X4</th>\n",
       "      <th>X5</th>\n",
       "      <th>X6</th>\n",
       "      <th>X9</th>\n",
       "      <th>X14</th>\n",
       "      <th>X21</th>\n",
       "      <th>X22</th>\n",
       "      <th>X24</th>\n",
       "      <th>X27</th>\n",
       "      <th>X28</th>\n",
       "      <th>X29</th>\n",
       "      <th>X30</th>\n",
       "      <th>X31</th>\n",
       "      <th>X32</th>\n",
       "      <th>is_long_term</th>\n",
       "      <th>is_employed</th>\n",
       "      <th>is_home</th>\n",
       "      <th>loan_purpose</th>\n",
       "      <th>state_level</th>\n",
       "    </tr>\n",
       "  </thead>\n",
       "  <tbody>\n",
       "    <tr>\n",
       "      <th>0</th>\n",
       "      <td>NaN</td>\n",
       "      <td>6000.0</td>\n",
       "      <td>6000.0</td>\n",
       "      <td>6000.0</td>\n",
       "      <td>C5</td>\n",
       "      <td>Y_income</td>\n",
       "      <td>28.31</td>\n",
       "      <td>0</td>\n",
       "      <td>1</td>\n",
       "      <td>18</td>\n",
       "      <td>0</td>\n",
       "      <td>19861</td>\n",
       "      <td>0.645</td>\n",
       "      <td>33</td>\n",
       "      <td>f</td>\n",
       "      <td>0</td>\n",
       "      <td>1</td>\n",
       "      <td>M</td>\n",
       "      <td>M</td>\n",
       "      <td>H</td>\n",
       "    </tr>\n",
       "    <tr>\n",
       "      <th>1</th>\n",
       "      <td>NaN</td>\n",
       "      <td>24000.0</td>\n",
       "      <td>24000.0</td>\n",
       "      <td>24000.0</td>\n",
       "      <td>A1</td>\n",
       "      <td>Y_income</td>\n",
       "      <td>16.03</td>\n",
       "      <td>0</td>\n",
       "      <td>1</td>\n",
       "      <td>12</td>\n",
       "      <td>0</td>\n",
       "      <td>17001</td>\n",
       "      <td>0.262</td>\n",
       "      <td>36</td>\n",
       "      <td>w</td>\n",
       "      <td>0</td>\n",
       "      <td>1</td>\n",
       "      <td>H</td>\n",
       "      <td>M</td>\n",
       "      <td>M</td>\n",
       "    </tr>\n",
       "    <tr>\n",
       "      <th>2</th>\n",
       "      <td>NaN</td>\n",
       "      <td>35000.0</td>\n",
       "      <td>35000.0</td>\n",
       "      <td>35000.0</td>\n",
       "      <td>C2</td>\n",
       "      <td>Y_income</td>\n",
       "      <td>32.49</td>\n",
       "      <td>0</td>\n",
       "      <td>0</td>\n",
       "      <td>16</td>\n",
       "      <td>0</td>\n",
       "      <td>25797</td>\n",
       "      <td>0.499</td>\n",
       "      <td>33</td>\n",
       "      <td>w</td>\n",
       "      <td>0</td>\n",
       "      <td>1</td>\n",
       "      <td>M</td>\n",
       "      <td>M</td>\n",
       "      <td>M</td>\n",
       "    </tr>\n",
       "    <tr>\n",
       "      <th>3</th>\n",
       "      <td>NaN</td>\n",
       "      <td>10000.0</td>\n",
       "      <td>10000.0</td>\n",
       "      <td>10000.0</td>\n",
       "      <td>D1</td>\n",
       "      <td>Y_source</td>\n",
       "      <td>32.96</td>\n",
       "      <td>0</td>\n",
       "      <td>1</td>\n",
       "      <td>13</td>\n",
       "      <td>1</td>\n",
       "      <td>9586</td>\n",
       "      <td>0.438</td>\n",
       "      <td>21</td>\n",
       "      <td>w</td>\n",
       "      <td>0</td>\n",
       "      <td>1</td>\n",
       "      <td>H</td>\n",
       "      <td>M</td>\n",
       "      <td>M</td>\n",
       "    </tr>\n",
       "    <tr>\n",
       "      <th>4</th>\n",
       "      <td>NaN</td>\n",
       "      <td>24000.0</td>\n",
       "      <td>24000.0</td>\n",
       "      <td>24000.0</td>\n",
       "      <td>B1</td>\n",
       "      <td>Y_income</td>\n",
       "      <td>31.03</td>\n",
       "      <td>0</td>\n",
       "      <td>0</td>\n",
       "      <td>27</td>\n",
       "      <td>0</td>\n",
       "      <td>31842</td>\n",
       "      <td>0.413</td>\n",
       "      <td>43</td>\n",
       "      <td>w</td>\n",
       "      <td>0</td>\n",
       "      <td>1</td>\n",
       "      <td>M</td>\n",
       "      <td>M</td>\n",
       "      <td>M</td>\n",
       "    </tr>\n",
       "  </tbody>\n",
       "</table>\n",
       "</div>"
      ],
      "text/plain": [
       "   X1       X4       X5       X6  X9       X14    X21  X22  X24  X27  X28  \\\n",
       "0 NaN   6000.0   6000.0   6000.0  C5  Y_income  28.31    0    1   18    0   \n",
       "1 NaN  24000.0  24000.0  24000.0  A1  Y_income  16.03    0    1   12    0   \n",
       "2 NaN  35000.0  35000.0  35000.0  C2  Y_income  32.49    0    0   16    0   \n",
       "3 NaN  10000.0  10000.0  10000.0  D1  Y_source  32.96    0    1   13    1   \n",
       "4 NaN  24000.0  24000.0  24000.0  B1  Y_income  31.03    0    0   27    0   \n",
       "\n",
       "     X29    X30  X31 X32  is_long_term  is_employed is_home loan_purpose  \\\n",
       "0  19861  0.645   33   f             0            1       M            M   \n",
       "1  17001  0.262   36   w             0            1       H            M   \n",
       "2  25797  0.499   33   w             0            1       M            M   \n",
       "3   9586  0.438   21   w             0            1       H            M   \n",
       "4  31842  0.413   43   w             0            1       M            M   \n",
       "\n",
       "  state_level  \n",
       "0           H  \n",
       "1           M  \n",
       "2           M  \n",
       "3           M  \n",
       "4           M  "
      ]
     },
     "execution_count": 43,
     "metadata": {},
     "output_type": "execute_result"
    }
   ],
   "source": [
    "#Drop columns\n",
    "train_use = train.drop(['X2','X3','X7','X8','X10','X11','X12','X13','X15',\n",
    "                        'X16','X17','X18','X19','X20','X23','X25','X26'], axis = 1)\n",
    "test_use = test.drop(['X2','X3','X7','X8','X10','X11','X12','X13','X15',\n",
    "             'X16','X17','X18','X19','X20','X23','X25','X26'], axis = 1)\n",
    "\n",
    "test_use.head()"
   ]
  },
  {
   "cell_type": "code",
   "execution_count": 44,
   "metadata": {},
   "outputs": [
    {
     "data": {
      "text/plain": [
       "['X1',\n",
       " 'X4',\n",
       " 'X5',\n",
       " 'X6',\n",
       " 'X9',\n",
       " 'X14',\n",
       " 'X21',\n",
       " 'X22',\n",
       " 'X24',\n",
       " 'X27',\n",
       " 'X28',\n",
       " 'X29',\n",
       " 'X30',\n",
       " 'X31',\n",
       " 'X32',\n",
       " 'is_long_term',\n",
       " 'is_employed',\n",
       " 'is_home',\n",
       " 'loan_purpose',\n",
       " 'state_level']"
      ]
     },
     "execution_count": 44,
     "metadata": {},
     "output_type": "execute_result"
    }
   ],
   "source": [
    "list(test_use)"
   ]
  },
  {
   "cell_type": "code",
   "execution_count": 45,
   "metadata": {},
   "outputs": [
    {
     "data": {
      "text/plain": [
       "['interest_rate',\n",
       " 'loan_amt_rqt',\n",
       " 'laon_amt_fund',\n",
       " 'investor_p',\n",
       " 'loan_subgrade',\n",
       " 'income_ver',\n",
       " 'borrower_r',\n",
       " 'delinquency_r',\n",
       " 'num_inq',\n",
       " 'num_cr_line',\n",
       " 'num_derogatory',\n",
       " 'total_cr_balance',\n",
       " 'utilization_r',\n",
       " 'total_cr_line',\n",
       " 'loan_status',\n",
       " 'is_long_term',\n",
       " 'is_employed',\n",
       " 'is_home',\n",
       " 'loan_purpose',\n",
       " 'state_level']"
      ]
     },
     "execution_count": 45,
     "metadata": {},
     "output_type": "execute_result"
    }
   ],
   "source": [
    "#Rename columns\n",
    "data = [train_use, test_use]\n",
    "\n",
    "for df in data:\n",
    "    df.rename(columns = {'X1':'interest_rate', \n",
    "                         'X4':'loan_amt_rqt', \n",
    "                         'X5':'laon_amt_fund', \n",
    "                         'X6':'investor_p',\n",
    "                         'X9':'loan_subgrade',\n",
    "                         'X14':'income_ver',\n",
    "                         'X21':'borrower_r',\n",
    "                         'X22':'delinquency_r',\n",
    "                         'X24':'num_inq',\n",
    "                         'X27':'num_cr_line',\n",
    "                         'X28':'num_derogatory',\n",
    "                         'X29':'total_cr_balance',\n",
    "                         'X30':'utilization_r',\n",
    "                         'X31':'total_cr_line',\n",
    "                         'X32':'loan_status', \n",
    "                         'is_employed':'is_employed', \n",
    "                         'is_long_term':'is_long_term', \n",
    "                         'is_home':'is_home',\n",
    "                         'loan_purpose':'loan_purpose',\n",
    "                         'state_level':'state_level'}, inplace = True)\n",
    "\n",
    "list(test_use)"
   ]
  },
  {
   "cell_type": "code",
   "execution_count": 46,
   "metadata": {},
   "outputs": [
    {
     "data": {
      "text/html": [
       "<div>\n",
       "<style scoped>\n",
       "    .dataframe tbody tr th:only-of-type {\n",
       "        vertical-align: middle;\n",
       "    }\n",
       "\n",
       "    .dataframe tbody tr th {\n",
       "        vertical-align: top;\n",
       "    }\n",
       "\n",
       "    .dataframe thead th {\n",
       "        text-align: right;\n",
       "    }\n",
       "</style>\n",
       "<table border=\"1\" class=\"dataframe\">\n",
       "  <thead>\n",
       "    <tr style=\"text-align: right;\">\n",
       "      <th></th>\n",
       "      <th>interest_rate</th>\n",
       "      <th>loan_amt_rqt</th>\n",
       "      <th>laon_amt_fund</th>\n",
       "      <th>investor_p</th>\n",
       "      <th>loan_subgrade</th>\n",
       "      <th>income_ver</th>\n",
       "      <th>borrower_r</th>\n",
       "      <th>delinquency_r</th>\n",
       "      <th>num_inq</th>\n",
       "      <th>num_cr_line</th>\n",
       "      <th>num_derogatory</th>\n",
       "      <th>total_cr_balance</th>\n",
       "      <th>utilization_r</th>\n",
       "      <th>total_cr_line</th>\n",
       "      <th>loan_status</th>\n",
       "      <th>is_long_term</th>\n",
       "      <th>is_employed</th>\n",
       "      <th>is_home</th>\n",
       "      <th>loan_purpose</th>\n",
       "      <th>state_level</th>\n",
       "    </tr>\n",
       "  </thead>\n",
       "  <tbody>\n",
       "    <tr>\n",
       "      <th>0</th>\n",
       "      <td>NaN</td>\n",
       "      <td>6000.0</td>\n",
       "      <td>6000.0</td>\n",
       "      <td>6000.0</td>\n",
       "      <td>C5</td>\n",
       "      <td>Y_income</td>\n",
       "      <td>28.31</td>\n",
       "      <td>0</td>\n",
       "      <td>1</td>\n",
       "      <td>18</td>\n",
       "      <td>0</td>\n",
       "      <td>19861</td>\n",
       "      <td>0.645</td>\n",
       "      <td>33</td>\n",
       "      <td>f</td>\n",
       "      <td>0</td>\n",
       "      <td>1</td>\n",
       "      <td>M</td>\n",
       "      <td>M</td>\n",
       "      <td>H</td>\n",
       "    </tr>\n",
       "    <tr>\n",
       "      <th>1</th>\n",
       "      <td>NaN</td>\n",
       "      <td>24000.0</td>\n",
       "      <td>24000.0</td>\n",
       "      <td>24000.0</td>\n",
       "      <td>A1</td>\n",
       "      <td>Y_income</td>\n",
       "      <td>16.03</td>\n",
       "      <td>0</td>\n",
       "      <td>1</td>\n",
       "      <td>12</td>\n",
       "      <td>0</td>\n",
       "      <td>17001</td>\n",
       "      <td>0.262</td>\n",
       "      <td>36</td>\n",
       "      <td>w</td>\n",
       "      <td>0</td>\n",
       "      <td>1</td>\n",
       "      <td>H</td>\n",
       "      <td>M</td>\n",
       "      <td>M</td>\n",
       "    </tr>\n",
       "    <tr>\n",
       "      <th>2</th>\n",
       "      <td>NaN</td>\n",
       "      <td>35000.0</td>\n",
       "      <td>35000.0</td>\n",
       "      <td>35000.0</td>\n",
       "      <td>C2</td>\n",
       "      <td>Y_income</td>\n",
       "      <td>32.49</td>\n",
       "      <td>0</td>\n",
       "      <td>0</td>\n",
       "      <td>16</td>\n",
       "      <td>0</td>\n",
       "      <td>25797</td>\n",
       "      <td>0.499</td>\n",
       "      <td>33</td>\n",
       "      <td>w</td>\n",
       "      <td>0</td>\n",
       "      <td>1</td>\n",
       "      <td>M</td>\n",
       "      <td>M</td>\n",
       "      <td>M</td>\n",
       "    </tr>\n",
       "    <tr>\n",
       "      <th>3</th>\n",
       "      <td>NaN</td>\n",
       "      <td>10000.0</td>\n",
       "      <td>10000.0</td>\n",
       "      <td>10000.0</td>\n",
       "      <td>D1</td>\n",
       "      <td>Y_source</td>\n",
       "      <td>32.96</td>\n",
       "      <td>0</td>\n",
       "      <td>1</td>\n",
       "      <td>13</td>\n",
       "      <td>1</td>\n",
       "      <td>9586</td>\n",
       "      <td>0.438</td>\n",
       "      <td>21</td>\n",
       "      <td>w</td>\n",
       "      <td>0</td>\n",
       "      <td>1</td>\n",
       "      <td>H</td>\n",
       "      <td>M</td>\n",
       "      <td>M</td>\n",
       "    </tr>\n",
       "    <tr>\n",
       "      <th>4</th>\n",
       "      <td>NaN</td>\n",
       "      <td>24000.0</td>\n",
       "      <td>24000.0</td>\n",
       "      <td>24000.0</td>\n",
       "      <td>B1</td>\n",
       "      <td>Y_income</td>\n",
       "      <td>31.03</td>\n",
       "      <td>0</td>\n",
       "      <td>0</td>\n",
       "      <td>27</td>\n",
       "      <td>0</td>\n",
       "      <td>31842</td>\n",
       "      <td>0.413</td>\n",
       "      <td>43</td>\n",
       "      <td>w</td>\n",
       "      <td>0</td>\n",
       "      <td>1</td>\n",
       "      <td>M</td>\n",
       "      <td>M</td>\n",
       "      <td>M</td>\n",
       "    </tr>\n",
       "  </tbody>\n",
       "</table>\n",
       "</div>"
      ],
      "text/plain": [
       "   interest_rate  loan_amt_rqt  laon_amt_fund  investor_p loan_subgrade  \\\n",
       "0            NaN        6000.0         6000.0      6000.0            C5   \n",
       "1            NaN       24000.0        24000.0     24000.0            A1   \n",
       "2            NaN       35000.0        35000.0     35000.0            C2   \n",
       "3            NaN       10000.0        10000.0     10000.0            D1   \n",
       "4            NaN       24000.0        24000.0     24000.0            B1   \n",
       "\n",
       "  income_ver  borrower_r  delinquency_r  num_inq  num_cr_line  num_derogatory  \\\n",
       "0   Y_income       28.31              0        1           18               0   \n",
       "1   Y_income       16.03              0        1           12               0   \n",
       "2   Y_income       32.49              0        0           16               0   \n",
       "3   Y_source       32.96              0        1           13               1   \n",
       "4   Y_income       31.03              0        0           27               0   \n",
       "\n",
       "   total_cr_balance  utilization_r  total_cr_line loan_status  is_long_term  \\\n",
       "0             19861          0.645             33           f             0   \n",
       "1             17001          0.262             36           w             0   \n",
       "2             25797          0.499             33           w             0   \n",
       "3              9586          0.438             21           w             0   \n",
       "4             31842          0.413             43           w             0   \n",
       "\n",
       "   is_employed is_home loan_purpose state_level  \n",
       "0            1       M            M           H  \n",
       "1            1       H            M           M  \n",
       "2            1       M            M           M  \n",
       "3            1       H            M           M  \n",
       "4            1       M            M           M  "
      ]
     },
     "execution_count": 46,
     "metadata": {},
     "output_type": "execute_result"
    }
   ],
   "source": [
    "test_use.head()"
   ]
  },
  {
   "cell_type": "code",
   "execution_count": 47,
   "metadata": {},
   "outputs": [
    {
     "data": {
      "text/html": [
       "<div>\n",
       "<style scoped>\n",
       "    .dataframe tbody tr th:only-of-type {\n",
       "        vertical-align: middle;\n",
       "    }\n",
       "\n",
       "    .dataframe tbody tr th {\n",
       "        vertical-align: top;\n",
       "    }\n",
       "\n",
       "    .dataframe thead th {\n",
       "        text-align: right;\n",
       "    }\n",
       "</style>\n",
       "<table border=\"1\" class=\"dataframe\">\n",
       "  <thead>\n",
       "    <tr style=\"text-align: right;\">\n",
       "      <th></th>\n",
       "      <th>loan_subgrade_A2</th>\n",
       "      <th>loan_subgrade_A3</th>\n",
       "      <th>loan_subgrade_A4</th>\n",
       "      <th>loan_subgrade_A5</th>\n",
       "      <th>loan_subgrade_B1</th>\n",
       "      <th>loan_subgrade_B2</th>\n",
       "      <th>loan_subgrade_B3</th>\n",
       "      <th>loan_subgrade_B4</th>\n",
       "      <th>loan_subgrade_B5</th>\n",
       "      <th>loan_subgrade_C1</th>\n",
       "      <th>...</th>\n",
       "      <th>loan_status_f</th>\n",
       "      <th>loan_status_w</th>\n",
       "      <th>is_home_L</th>\n",
       "      <th>is_home_M</th>\n",
       "      <th>loan_purpose_L</th>\n",
       "      <th>loan_purpose_M</th>\n",
       "      <th>loan_purpose_ML</th>\n",
       "      <th>state_level_M</th>\n",
       "      <th>state_level_ML</th>\n",
       "      <th>state_level_H</th>\n",
       "    </tr>\n",
       "  </thead>\n",
       "  <tbody>\n",
       "    <tr>\n",
       "      <th>0</th>\n",
       "      <td>0</td>\n",
       "      <td>0</td>\n",
       "      <td>0</td>\n",
       "      <td>0</td>\n",
       "      <td>0</td>\n",
       "      <td>0</td>\n",
       "      <td>0</td>\n",
       "      <td>1</td>\n",
       "      <td>0</td>\n",
       "      <td>0</td>\n",
       "      <td>...</td>\n",
       "      <td>1</td>\n",
       "      <td>0</td>\n",
       "      <td>0</td>\n",
       "      <td>0</td>\n",
       "      <td>0</td>\n",
       "      <td>1</td>\n",
       "      <td>0</td>\n",
       "      <td>1</td>\n",
       "      <td>0</td>\n",
       "      <td>0</td>\n",
       "    </tr>\n",
       "    <tr>\n",
       "      <th>1</th>\n",
       "      <td>0</td>\n",
       "      <td>0</td>\n",
       "      <td>0</td>\n",
       "      <td>0</td>\n",
       "      <td>0</td>\n",
       "      <td>0</td>\n",
       "      <td>0</td>\n",
       "      <td>0</td>\n",
       "      <td>1</td>\n",
       "      <td>0</td>\n",
       "      <td>...</td>\n",
       "      <td>1</td>\n",
       "      <td>0</td>\n",
       "      <td>0</td>\n",
       "      <td>0</td>\n",
       "      <td>0</td>\n",
       "      <td>0</td>\n",
       "      <td>1</td>\n",
       "      <td>0</td>\n",
       "      <td>1</td>\n",
       "      <td>0</td>\n",
       "    </tr>\n",
       "    <tr>\n",
       "      <th>2</th>\n",
       "      <td>0</td>\n",
       "      <td>0</td>\n",
       "      <td>0</td>\n",
       "      <td>0</td>\n",
       "      <td>0</td>\n",
       "      <td>0</td>\n",
       "      <td>0</td>\n",
       "      <td>0</td>\n",
       "      <td>0</td>\n",
       "      <td>0</td>\n",
       "      <td>...</td>\n",
       "      <td>1</td>\n",
       "      <td>0</td>\n",
       "      <td>0</td>\n",
       "      <td>0</td>\n",
       "      <td>0</td>\n",
       "      <td>1</td>\n",
       "      <td>0</td>\n",
       "      <td>0</td>\n",
       "      <td>1</td>\n",
       "      <td>0</td>\n",
       "    </tr>\n",
       "    <tr>\n",
       "      <th>3</th>\n",
       "      <td>0</td>\n",
       "      <td>0</td>\n",
       "      <td>0</td>\n",
       "      <td>0</td>\n",
       "      <td>0</td>\n",
       "      <td>0</td>\n",
       "      <td>0</td>\n",
       "      <td>0</td>\n",
       "      <td>0</td>\n",
       "      <td>0</td>\n",
       "      <td>...</td>\n",
       "      <td>1</td>\n",
       "      <td>0</td>\n",
       "      <td>0</td>\n",
       "      <td>0</td>\n",
       "      <td>0</td>\n",
       "      <td>1</td>\n",
       "      <td>0</td>\n",
       "      <td>0</td>\n",
       "      <td>0</td>\n",
       "      <td>0</td>\n",
       "    </tr>\n",
       "    <tr>\n",
       "      <th>4</th>\n",
       "      <td>0</td>\n",
       "      <td>0</td>\n",
       "      <td>0</td>\n",
       "      <td>0</td>\n",
       "      <td>0</td>\n",
       "      <td>0</td>\n",
       "      <td>0</td>\n",
       "      <td>0</td>\n",
       "      <td>0</td>\n",
       "      <td>0</td>\n",
       "      <td>...</td>\n",
       "      <td>1</td>\n",
       "      <td>0</td>\n",
       "      <td>0</td>\n",
       "      <td>0</td>\n",
       "      <td>0</td>\n",
       "      <td>1</td>\n",
       "      <td>0</td>\n",
       "      <td>1</td>\n",
       "      <td>0</td>\n",
       "      <td>0</td>\n",
       "    </tr>\n",
       "    <tr>\n",
       "      <th>...</th>\n",
       "      <td>...</td>\n",
       "      <td>...</td>\n",
       "      <td>...</td>\n",
       "      <td>...</td>\n",
       "      <td>...</td>\n",
       "      <td>...</td>\n",
       "      <td>...</td>\n",
       "      <td>...</td>\n",
       "      <td>...</td>\n",
       "      <td>...</td>\n",
       "      <td>...</td>\n",
       "      <td>...</td>\n",
       "      <td>...</td>\n",
       "      <td>...</td>\n",
       "      <td>...</td>\n",
       "      <td>...</td>\n",
       "      <td>...</td>\n",
       "      <td>...</td>\n",
       "      <td>...</td>\n",
       "      <td>...</td>\n",
       "      <td>...</td>\n",
       "    </tr>\n",
       "    <tr>\n",
       "      <th>399995</th>\n",
       "      <td>0</td>\n",
       "      <td>0</td>\n",
       "      <td>0</td>\n",
       "      <td>0</td>\n",
       "      <td>0</td>\n",
       "      <td>0</td>\n",
       "      <td>0</td>\n",
       "      <td>0</td>\n",
       "      <td>0</td>\n",
       "      <td>1</td>\n",
       "      <td>...</td>\n",
       "      <td>0</td>\n",
       "      <td>1</td>\n",
       "      <td>0</td>\n",
       "      <td>0</td>\n",
       "      <td>0</td>\n",
       "      <td>0</td>\n",
       "      <td>1</td>\n",
       "      <td>1</td>\n",
       "      <td>0</td>\n",
       "      <td>0</td>\n",
       "    </tr>\n",
       "    <tr>\n",
       "      <th>399996</th>\n",
       "      <td>0</td>\n",
       "      <td>0</td>\n",
       "      <td>0</td>\n",
       "      <td>0</td>\n",
       "      <td>0</td>\n",
       "      <td>0</td>\n",
       "      <td>0</td>\n",
       "      <td>0</td>\n",
       "      <td>0</td>\n",
       "      <td>0</td>\n",
       "      <td>...</td>\n",
       "      <td>1</td>\n",
       "      <td>0</td>\n",
       "      <td>0</td>\n",
       "      <td>0</td>\n",
       "      <td>0</td>\n",
       "      <td>1</td>\n",
       "      <td>0</td>\n",
       "      <td>0</td>\n",
       "      <td>0</td>\n",
       "      <td>0</td>\n",
       "    </tr>\n",
       "    <tr>\n",
       "      <th>399997</th>\n",
       "      <td>0</td>\n",
       "      <td>0</td>\n",
       "      <td>0</td>\n",
       "      <td>0</td>\n",
       "      <td>0</td>\n",
       "      <td>0</td>\n",
       "      <td>1</td>\n",
       "      <td>0</td>\n",
       "      <td>0</td>\n",
       "      <td>0</td>\n",
       "      <td>...</td>\n",
       "      <td>0</td>\n",
       "      <td>1</td>\n",
       "      <td>0</td>\n",
       "      <td>1</td>\n",
       "      <td>0</td>\n",
       "      <td>0</td>\n",
       "      <td>1</td>\n",
       "      <td>0</td>\n",
       "      <td>0</td>\n",
       "      <td>0</td>\n",
       "    </tr>\n",
       "    <tr>\n",
       "      <th>399998</th>\n",
       "      <td>0</td>\n",
       "      <td>0</td>\n",
       "      <td>0</td>\n",
       "      <td>0</td>\n",
       "      <td>0</td>\n",
       "      <td>0</td>\n",
       "      <td>0</td>\n",
       "      <td>0</td>\n",
       "      <td>0</td>\n",
       "      <td>0</td>\n",
       "      <td>...</td>\n",
       "      <td>1</td>\n",
       "      <td>0</td>\n",
       "      <td>0</td>\n",
       "      <td>0</td>\n",
       "      <td>0</td>\n",
       "      <td>1</td>\n",
       "      <td>0</td>\n",
       "      <td>0</td>\n",
       "      <td>0</td>\n",
       "      <td>0</td>\n",
       "    </tr>\n",
       "    <tr>\n",
       "      <th>399999</th>\n",
       "      <td>0</td>\n",
       "      <td>0</td>\n",
       "      <td>0</td>\n",
       "      <td>0</td>\n",
       "      <td>0</td>\n",
       "      <td>0</td>\n",
       "      <td>0</td>\n",
       "      <td>0</td>\n",
       "      <td>0</td>\n",
       "      <td>0</td>\n",
       "      <td>...</td>\n",
       "      <td>1</td>\n",
       "      <td>0</td>\n",
       "      <td>0</td>\n",
       "      <td>1</td>\n",
       "      <td>0</td>\n",
       "      <td>1</td>\n",
       "      <td>0</td>\n",
       "      <td>0</td>\n",
       "      <td>0</td>\n",
       "      <td>0</td>\n",
       "    </tr>\n",
       "  </tbody>\n",
       "</table>\n",
       "<p>400000 rows × 48 columns</p>\n",
       "</div>"
      ],
      "text/plain": [
       "        loan_subgrade_A2  loan_subgrade_A3  loan_subgrade_A4  \\\n",
       "0                      0                 0                 0   \n",
       "1                      0                 0                 0   \n",
       "2                      0                 0                 0   \n",
       "3                      0                 0                 0   \n",
       "4                      0                 0                 0   \n",
       "...                  ...               ...               ...   \n",
       "399995                 0                 0                 0   \n",
       "399996                 0                 0                 0   \n",
       "399997                 0                 0                 0   \n",
       "399998                 0                 0                 0   \n",
       "399999                 0                 0                 0   \n",
       "\n",
       "        loan_subgrade_A5  loan_subgrade_B1  loan_subgrade_B2  \\\n",
       "0                      0                 0                 0   \n",
       "1                      0                 0                 0   \n",
       "2                      0                 0                 0   \n",
       "3                      0                 0                 0   \n",
       "4                      0                 0                 0   \n",
       "...                  ...               ...               ...   \n",
       "399995                 0                 0                 0   \n",
       "399996                 0                 0                 0   \n",
       "399997                 0                 0                 0   \n",
       "399998                 0                 0                 0   \n",
       "399999                 0                 0                 0   \n",
       "\n",
       "        loan_subgrade_B3  loan_subgrade_B4  loan_subgrade_B5  \\\n",
       "0                      0                 1                 0   \n",
       "1                      0                 0                 1   \n",
       "2                      0                 0                 0   \n",
       "3                      0                 0                 0   \n",
       "4                      0                 0                 0   \n",
       "...                  ...               ...               ...   \n",
       "399995                 0                 0                 0   \n",
       "399996                 0                 0                 0   \n",
       "399997                 1                 0                 0   \n",
       "399998                 0                 0                 0   \n",
       "399999                 0                 0                 0   \n",
       "\n",
       "        loan_subgrade_C1  ...  loan_status_f  loan_status_w  is_home_L  \\\n",
       "0                      0  ...              1              0          0   \n",
       "1                      0  ...              1              0          0   \n",
       "2                      0  ...              1              0          0   \n",
       "3                      0  ...              1              0          0   \n",
       "4                      0  ...              1              0          0   \n",
       "...                  ...  ...            ...            ...        ...   \n",
       "399995                 1  ...              0              1          0   \n",
       "399996                 0  ...              1              0          0   \n",
       "399997                 0  ...              0              1          0   \n",
       "399998                 0  ...              1              0          0   \n",
       "399999                 0  ...              1              0          0   \n",
       "\n",
       "        is_home_M  loan_purpose_L  loan_purpose_M  loan_purpose_ML  \\\n",
       "0               0               0               1                0   \n",
       "1               0               0               0                1   \n",
       "2               0               0               1                0   \n",
       "3               0               0               1                0   \n",
       "4               0               0               1                0   \n",
       "...           ...             ...             ...              ...   \n",
       "399995          0               0               0                1   \n",
       "399996          0               0               1                0   \n",
       "399997          1               0               0                1   \n",
       "399998          0               0               1                0   \n",
       "399999          1               0               1                0   \n",
       "\n",
       "        state_level_M  state_level_ML  state_level_H  \n",
       "0                   1               0              0  \n",
       "1                   0               1              0  \n",
       "2                   0               1              0  \n",
       "3                   0               0              0  \n",
       "4                   1               0              0  \n",
       "...               ...             ...            ...  \n",
       "399995              1               0              0  \n",
       "399996              0               0              0  \n",
       "399997              0               0              0  \n",
       "399998              0               0              0  \n",
       "399999              0               0              0  \n",
       "\n",
       "[400000 rows x 48 columns]"
      ]
     },
     "execution_count": 47,
     "metadata": {},
     "output_type": "execute_result"
    }
   ],
   "source": [
    "#Convert columns into dummy variables\n",
    "train_dummies = pd.get_dummies(train_use[['loan_subgrade','income_ver','loan_status','is_home','loan_purpose','state_level']], drop_first=True)\n",
    "train_dummies"
   ]
  },
  {
   "cell_type": "code",
   "execution_count": 48,
   "metadata": {},
   "outputs": [
    {
     "data": {
      "text/plain": [
       "Index(['loan_subgrade_A2', 'loan_subgrade_A3', 'loan_subgrade_A4',\n",
       "       'loan_subgrade_A5', 'loan_subgrade_B1', 'loan_subgrade_B2',\n",
       "       'loan_subgrade_B3', 'loan_subgrade_B4', 'loan_subgrade_B5',\n",
       "       'loan_subgrade_C1', 'loan_subgrade_C2', 'loan_subgrade_C3',\n",
       "       'loan_subgrade_C4', 'loan_subgrade_C5', 'loan_subgrade_D1',\n",
       "       'loan_subgrade_D2', 'loan_subgrade_D3', 'loan_subgrade_D4',\n",
       "       'loan_subgrade_D5', 'loan_subgrade_E1', 'loan_subgrade_E2',\n",
       "       'loan_subgrade_E3', 'loan_subgrade_E4', 'loan_subgrade_E5',\n",
       "       'loan_subgrade_F1', 'loan_subgrade_F2', 'loan_subgrade_F3',\n",
       "       'loan_subgrade_F4', 'loan_subgrade_F5', 'loan_subgrade_G1',\n",
       "       'loan_subgrade_G2', 'loan_subgrade_G3', 'loan_subgrade_G4',\n",
       "       'loan_subgrade_G5', 'loan_subgrade_NA', 'income_ver_NA',\n",
       "       'income_ver_Y_income', 'income_ver_Y_source', 'loan_status_f',\n",
       "       'loan_status_w', 'is_home_L', 'is_home_M', 'loan_purpose_L',\n",
       "       'loan_purpose_M', 'loan_purpose_ML', 'state_level_M', 'state_level_ML',\n",
       "       'state_level_H', 'interest_rate', 'loan_amt_rqt', 'laon_amt_fund',\n",
       "       'investor_p', 'borrower_r', 'delinquency_r', 'num_inq', 'num_cr_line',\n",
       "       'num_derogatory', 'total_cr_balance', 'utilization_r', 'total_cr_line',\n",
       "       'is_long_term', 'is_employed'],\n",
       "      dtype='object')"
      ]
     },
     "execution_count": 48,
     "metadata": {},
     "output_type": "execute_result"
    }
   ],
   "source": [
    "train_use = train_use.drop(['loan_subgrade','income_ver','loan_status','is_home','loan_purpose','state_level'] , axis=1)\n",
    "train_use = pd.concat([train_dummies, train_use], axis=1)\n",
    "train_use.columns"
   ]
  },
  {
   "cell_type": "code",
   "execution_count": 50,
   "metadata": {},
   "outputs": [
    {
     "data": {
      "text/plain": [
       "Index(['loan_subgrade_A2', 'loan_subgrade_A3', 'loan_subgrade_A4',\n",
       "       'loan_subgrade_A5', 'loan_subgrade_B1', 'loan_subgrade_B2',\n",
       "       'loan_subgrade_B3', 'loan_subgrade_B4', 'loan_subgrade_B5',\n",
       "       'loan_subgrade_C1', 'loan_subgrade_C2', 'loan_subgrade_C3',\n",
       "       'loan_subgrade_C4', 'loan_subgrade_C5', 'loan_subgrade_D1',\n",
       "       'loan_subgrade_D2', 'loan_subgrade_D3', 'loan_subgrade_D4',\n",
       "       'loan_subgrade_D5', 'loan_subgrade_E1', 'loan_subgrade_E2',\n",
       "       'loan_subgrade_E3', 'loan_subgrade_E4', 'loan_subgrade_E5',\n",
       "       'loan_subgrade_F1', 'loan_subgrade_F2', 'loan_subgrade_F3',\n",
       "       'loan_subgrade_F4', 'loan_subgrade_F5', 'loan_subgrade_G1',\n",
       "       'loan_subgrade_G2', 'loan_subgrade_G3', 'loan_subgrade_G4',\n",
       "       'loan_subgrade_G5', 'income_ver_Y_income', 'income_ver_Y_source',\n",
       "       'loan_status_w', 'is_home_M', 'loan_purpose_M', 'loan_purpose_ML',\n",
       "       'state_level_M', 'state_level_ML', 'state_level_H', 'interest_rate',\n",
       "       'loan_amt_rqt', 'laon_amt_fund', 'investor_p', 'borrower_r',\n",
       "       'delinquency_r', 'num_inq', 'num_cr_line', 'num_derogatory',\n",
       "       'total_cr_balance', 'utilization_r', 'total_cr_line', 'is_long_term',\n",
       "       'is_employed'],\n",
       "      dtype='object')"
      ]
     },
     "execution_count": 50,
     "metadata": {},
     "output_type": "execute_result"
    }
   ],
   "source": [
    "test_dummies = pd.get_dummies(test_use[['loan_subgrade','income_ver','loan_status','is_home','loan_purpose','state_level']], drop_first=True)\n",
    "test_use = test_use.drop(['loan_subgrade','income_ver','loan_status','is_home','loan_purpose','state_level'] , axis=1)\n",
    "test_use = pd.concat([test_dummies, test_use], axis=1)\n",
    "test_use.columns"
   ]
  },
  {
   "cell_type": "code",
   "execution_count": 51,
   "metadata": {},
   "outputs": [
    {
     "data": {
      "text/plain": [
       "False"
      ]
     },
     "execution_count": 51,
     "metadata": {},
     "output_type": "execute_result"
    }
   ],
   "source": [
    "#Take the row where ['interest_rate'] is not NA\n",
    "train_use = train_use[train_use['interest_rate'].notna()]\n",
    "\n",
    "train_use['interest_rate'].isnull().any()"
   ]
  },
  {
   "cell_type": "code",
   "execution_count": 52,
   "metadata": {},
   "outputs": [
    {
     "data": {
      "text/plain": [
       "loan_subgrade_A2    False\n",
       "loan_subgrade_A3    False\n",
       "loan_subgrade_A4    False\n",
       "loan_subgrade_A5    False\n",
       "loan_subgrade_B1    False\n",
       "                    ...  \n",
       "total_cr_balance    False\n",
       "utilization_r       False\n",
       "total_cr_line       False\n",
       "is_long_term        False\n",
       "is_employed         False\n",
       "Length: 62, dtype: bool"
      ]
     },
     "execution_count": 52,
     "metadata": {},
     "output_type": "execute_result"
    }
   ],
   "source": [
    "train_use.isnull().any()."
   ]
  },
  {
   "cell_type": "markdown",
   "metadata": {},
   "source": [
    "#### Section 3: Spliting Train & Test data"
   ]
  },
  {
   "cell_type": "code",
   "execution_count": 53,
   "metadata": {},
   "outputs": [],
   "source": [
    "from sklearn.model_selection import train_test_split"
   ]
  },
  {
   "cell_type": "code",
   "execution_count": 54,
   "metadata": {},
   "outputs": [],
   "source": [
    "x, y = train_use.drop(['interest_rate'],axis=1), train_use['interest_rate']"
   ]
  },
  {
   "cell_type": "code",
   "execution_count": null,
   "metadata": {},
   "outputs": [],
   "source": [
    "#x_train, x_test, y_train, y_test = train_test_split(x, y, test_size=0.20)"
   ]
  },
  {
   "cell_type": "code",
   "execution_count": null,
   "metadata": {},
   "outputs": [],
   "source": [
    "#Standardized the data\n",
    "#from sklearn.preprocessing import MinMaxScaler\n",
    "#scaler = MinMaxScaler()\n",
    "\n",
    "#x_train = scaler.fit_transform(x_train)\n",
    "#x_test = scaler.transform(x_test)"
   ]
  },
  {
   "cell_type": "markdown",
   "metadata": {},
   "source": [
    "#### Decision Tree Regression"
   ]
  },
  {
   "cell_type": "code",
   "execution_count": 55,
   "metadata": {},
   "outputs": [
    {
     "data": {
      "text/plain": [
       "DecisionTreeRegressor(max_depth=8, min_samples_leaf=0.13, random_state=3)"
      ]
     },
     "execution_count": 55,
     "metadata": {},
     "output_type": "execute_result"
    }
   ],
   "source": [
    "# Import DecisionTreeRegressor from sklearn.tree\n",
    "from sklearn.metrics import classification_report\n",
    "from sklearn.model_selection import cross_val_score\n",
    "\n",
    "import sklearn.model_selection as cv\n",
    "from sklearn.tree import DecisionTreeRegressor\n",
    "(x_train, x_test, y_train, y_test) = cv.train_test_split(x, y, test_size=.20)\n",
    "# Instantiate dt\n",
    "dt = DecisionTreeRegressor(max_depth=8,\n",
    "                           min_samples_leaf=0.13,\n",
    "                           random_state=3)\n",
    "\n",
    "# Fit dt to the training set\n",
    "dt.fit(x_train, y_train)"
   ]
  },
  {
   "cell_type": "code",
   "execution_count": 56,
   "metadata": {},
   "outputs": [
    {
     "name": "stdout",
     "output_type": "stream",
     "text": [
      "Test set RMSE of dt: 0.04\n"
     ]
    }
   ],
   "source": [
    "from sklearn.metrics import mean_squared_error as MSE\n",
    "\n",
    "# Compute y_pred\n",
    "y_pred = dt.predict(x_test)\n",
    "\n",
    "# Compute mse_dt\n",
    "mse_dt = MSE(y_test, y_pred)\n",
    "\n",
    "# Compute rmse_dt\n",
    "rmse_dt = mse_dt**(1/2)\n",
    "\n",
    "# Print rmse_dt\n",
    "print(\"Test set RMSE of dt: {:.2f}\".format(rmse_dt))"
   ]
  },
  {
   "cell_type": "code",
   "execution_count": 57,
   "metadata": {},
   "outputs": [
    {
     "name": "stdout",
     "output_type": "stream",
     "text": [
      "CV RMSE: 0.04\n"
     ]
    }
   ],
   "source": [
    "from sklearn.model_selection import cross_val_score\n",
    "# Compute the array containing the 10-folds CV MSEs\n",
    "MSE_CV_scores = - cross_val_score(dt, x_train, y_train, cv=10, \n",
    "                                  scoring='neg_mean_squared_error', \n",
    "                                  n_jobs=-1) \n",
    "\n",
    "# Compute the 10-folds CV RMSE\n",
    "RMSE_CV = (MSE_CV_scores.mean())**(1/2)\n",
    "\n",
    "# Print RMSE_CV\n",
    "print('CV RMSE: {:.2f}'.format(RMSE_CV))"
   ]
  },
  {
   "cell_type": "code",
   "execution_count": 58,
   "metadata": {},
   "outputs": [
    {
     "name": "stdout",
     "output_type": "stream",
     "text": [
      "Train RMSE: 0.04\n"
     ]
    }
   ],
   "source": [
    "# Import mean_squared_error from sklearn.metrics as MSE\n",
    "from sklearn.metrics import mean_squared_error as MSE\n",
    "\n",
    "# Fit dt to the training set\n",
    "dt.fit(x_train, y_train)\n",
    "\n",
    "# Predict the labels of the training set\n",
    "y_pred_train = dt.predict(x_train)\n",
    "\n",
    "# Evaluate the training set RMSE of dt\n",
    "RMSE_train = (MSE(y_train, y_pred_train))**(1/2)\n",
    "\n",
    "# Print RMSE_train\n",
    "print('Train RMSE: {:.2f}'.format(RMSE_train))"
   ]
  },
  {
   "cell_type": "markdown",
   "metadata": {},
   "source": [
    "#### Random Forest Regression"
   ]
  },
  {
   "cell_type": "code",
   "execution_count": 59,
   "metadata": {},
   "outputs": [
    {
     "name": "stdout",
     "output_type": "stream",
     "text": [
      "Test set RMSE of rf: 0.04\n",
      "Train set RMSE of rf: 0.04\n"
     ]
    }
   ],
   "source": [
    "# Basic imports\n",
    "from sklearn.ensemble import RandomForestRegressor\n",
    "from sklearn.model_selection import train_test_split\n",
    "from sklearn.metrics import mean_squared_error as MSE\n",
    "# Set seed for reproducibility\n",
    "SEED = 1\n",
    "# Split dataset into 70% train and 30% test\n",
    "x_train, x_test, y_train, y_test = \\\n",
    "train_test_split(x, y, test_size=0.3, random_state=SEED)\n",
    "\n",
    "# Instantiate a random forests regressor 'rf' 400 estimators\n",
    "rf = RandomForestRegressor(n_estimators=400,\n",
    "min_samples_leaf=0.12,\n",
    "random_state=SEED)\n",
    "# Fit 'rf' to the training set\n",
    "rf.fit(x_train, y_train)\n",
    "# Predict the test set labels 'y_pred'\n",
    "y_pred = rf.predict(x_test)\n",
    "y_pred_train=rf.predict(x_train)\n",
    "# Evaluate the test set RMSE\n",
    "rmse_test = MSE(y_test, y_pred)**(1/2)\n",
    "rmse_train = MSE(y_train, y_pred_train)**(1/2)\n",
    "# Print the test set RMSE\n",
    "print('Test set RMSE of rf: {:.2f}'.format(rmse_test))\n",
    "print('Train set RMSE of rf: {:.2f}'.format(rmse_train))"
   ]
  },
  {
   "cell_type": "markdown",
   "metadata": {},
   "source": [
    "### Gradient Boost"
   ]
  },
  {
   "cell_type": "code",
   "execution_count": 60,
   "metadata": {},
   "outputs": [
    {
     "name": "stdout",
     "output_type": "stream",
     "text": [
      "Test set RMSE of gb: 0.041\n"
     ]
    }
   ],
   "source": [
    "# Import GradientBoostingRegressor\n",
    "from sklearn.ensemble import GradientBoostingRegressor\n",
    "\n",
    "# Instantiate gb\n",
    "gb = GradientBoostingRegressor(max_depth=4,\n",
    "                               n_estimators=200,\n",
    "                               random_state=2)\n",
    "\n",
    "# Fit gb to the training set\n",
    "gb.fit(x_train, y_train)\n",
    "\n",
    "# Predict test set labels\n",
    "y_pred_Gboost = gb.predict(x_test)\n",
    "\n",
    "# Import mean_squared_error as MSE\n",
    "from sklearn.metrics import mean_squared_error as MSE\n",
    "\n",
    "# Compute MSE\n",
    "mse_test = MSE(y_test, y_pred)\n",
    "\n",
    "# Compute RMSE\n",
    "rmse_test = mse_test**(1/2)\n",
    "\n",
    "# Print RMSE\n",
    "print('Test set RMSE of gb: {:.3f}'.format(rmse_test))"
   ]
  },
  {
   "cell_type": "markdown",
   "metadata": {},
   "source": [
    "Discussion: From the RMSE outcome above, all three models: Decision Tree Regressor, RandomForestRegressor, Gradient Boosting Regressor are seems overfitting for train data. However, I might select RandomForestRegressor mothed because it is good for bias reduction. Random forests are able to work with a very large number of predictors, even more, predictors than there are observations. "
   ]
  },
  {
   "cell_type": "code",
   "execution_count": 86,
   "metadata": {},
   "outputs": [],
   "source": [
    "#Use Pickle to save models\n",
    "models = [dt, rf, gb]\n",
    "\n",
    "import pickle\n",
    "with open(\"models.pckl\", \"wb\") as f:\n",
    "    for model in models:\n",
    "         pickle.dump(model, f)"
   ]
  },
  {
   "cell_type": "code",
   "execution_count": 64,
   "metadata": {},
   "outputs": [
    {
     "data": {
      "text/html": [
       "<div>\n",
       "<style scoped>\n",
       "    .dataframe tbody tr th:only-of-type {\n",
       "        vertical-align: middle;\n",
       "    }\n",
       "\n",
       "    .dataframe tbody tr th {\n",
       "        vertical-align: top;\n",
       "    }\n",
       "\n",
       "    .dataframe thead th {\n",
       "        text-align: right;\n",
       "    }\n",
       "</style>\n",
       "<table border=\"1\" class=\"dataframe\">\n",
       "  <thead>\n",
       "    <tr style=\"text-align: right;\">\n",
       "      <th></th>\n",
       "      <th>loan_subgrade_A2</th>\n",
       "      <th>loan_subgrade_A3</th>\n",
       "      <th>loan_subgrade_A4</th>\n",
       "      <th>loan_subgrade_A5</th>\n",
       "      <th>loan_subgrade_B1</th>\n",
       "      <th>loan_subgrade_B2</th>\n",
       "      <th>loan_subgrade_B3</th>\n",
       "      <th>loan_subgrade_B4</th>\n",
       "      <th>loan_subgrade_B5</th>\n",
       "      <th>loan_subgrade_C1</th>\n",
       "      <th>...</th>\n",
       "      <th>borrower_r</th>\n",
       "      <th>delinquency_r</th>\n",
       "      <th>num_inq</th>\n",
       "      <th>num_cr_line</th>\n",
       "      <th>num_derogatory</th>\n",
       "      <th>total_cr_balance</th>\n",
       "      <th>utilization_r</th>\n",
       "      <th>total_cr_line</th>\n",
       "      <th>is_long_term</th>\n",
       "      <th>is_employed</th>\n",
       "    </tr>\n",
       "  </thead>\n",
       "  <tbody>\n",
       "    <tr>\n",
       "      <th>0</th>\n",
       "      <td>0</td>\n",
       "      <td>0</td>\n",
       "      <td>0</td>\n",
       "      <td>0</td>\n",
       "      <td>0</td>\n",
       "      <td>0</td>\n",
       "      <td>0</td>\n",
       "      <td>0</td>\n",
       "      <td>0</td>\n",
       "      <td>0</td>\n",
       "      <td>...</td>\n",
       "      <td>28.31</td>\n",
       "      <td>0</td>\n",
       "      <td>1</td>\n",
       "      <td>18</td>\n",
       "      <td>0</td>\n",
       "      <td>19861</td>\n",
       "      <td>0.645</td>\n",
       "      <td>33</td>\n",
       "      <td>0</td>\n",
       "      <td>1</td>\n",
       "    </tr>\n",
       "    <tr>\n",
       "      <th>1</th>\n",
       "      <td>0</td>\n",
       "      <td>0</td>\n",
       "      <td>0</td>\n",
       "      <td>0</td>\n",
       "      <td>0</td>\n",
       "      <td>0</td>\n",
       "      <td>0</td>\n",
       "      <td>0</td>\n",
       "      <td>0</td>\n",
       "      <td>0</td>\n",
       "      <td>...</td>\n",
       "      <td>16.03</td>\n",
       "      <td>0</td>\n",
       "      <td>1</td>\n",
       "      <td>12</td>\n",
       "      <td>0</td>\n",
       "      <td>17001</td>\n",
       "      <td>0.262</td>\n",
       "      <td>36</td>\n",
       "      <td>0</td>\n",
       "      <td>1</td>\n",
       "    </tr>\n",
       "    <tr>\n",
       "      <th>2</th>\n",
       "      <td>0</td>\n",
       "      <td>0</td>\n",
       "      <td>0</td>\n",
       "      <td>0</td>\n",
       "      <td>0</td>\n",
       "      <td>0</td>\n",
       "      <td>0</td>\n",
       "      <td>0</td>\n",
       "      <td>0</td>\n",
       "      <td>0</td>\n",
       "      <td>...</td>\n",
       "      <td>32.49</td>\n",
       "      <td>0</td>\n",
       "      <td>0</td>\n",
       "      <td>16</td>\n",
       "      <td>0</td>\n",
       "      <td>25797</td>\n",
       "      <td>0.499</td>\n",
       "      <td>33</td>\n",
       "      <td>0</td>\n",
       "      <td>1</td>\n",
       "    </tr>\n",
       "    <tr>\n",
       "      <th>3</th>\n",
       "      <td>0</td>\n",
       "      <td>0</td>\n",
       "      <td>0</td>\n",
       "      <td>0</td>\n",
       "      <td>0</td>\n",
       "      <td>0</td>\n",
       "      <td>0</td>\n",
       "      <td>0</td>\n",
       "      <td>0</td>\n",
       "      <td>0</td>\n",
       "      <td>...</td>\n",
       "      <td>32.96</td>\n",
       "      <td>0</td>\n",
       "      <td>1</td>\n",
       "      <td>13</td>\n",
       "      <td>1</td>\n",
       "      <td>9586</td>\n",
       "      <td>0.438</td>\n",
       "      <td>21</td>\n",
       "      <td>0</td>\n",
       "      <td>1</td>\n",
       "    </tr>\n",
       "    <tr>\n",
       "      <th>4</th>\n",
       "      <td>0</td>\n",
       "      <td>0</td>\n",
       "      <td>0</td>\n",
       "      <td>0</td>\n",
       "      <td>1</td>\n",
       "      <td>0</td>\n",
       "      <td>0</td>\n",
       "      <td>0</td>\n",
       "      <td>0</td>\n",
       "      <td>0</td>\n",
       "      <td>...</td>\n",
       "      <td>31.03</td>\n",
       "      <td>0</td>\n",
       "      <td>0</td>\n",
       "      <td>27</td>\n",
       "      <td>0</td>\n",
       "      <td>31842</td>\n",
       "      <td>0.413</td>\n",
       "      <td>43</td>\n",
       "      <td>0</td>\n",
       "      <td>1</td>\n",
       "    </tr>\n",
       "  </tbody>\n",
       "</table>\n",
       "<p>5 rows × 56 columns</p>\n",
       "</div>"
      ],
      "text/plain": [
       "   loan_subgrade_A2  loan_subgrade_A3  loan_subgrade_A4  loan_subgrade_A5  \\\n",
       "0                 0                 0                 0                 0   \n",
       "1                 0                 0                 0                 0   \n",
       "2                 0                 0                 0                 0   \n",
       "3                 0                 0                 0                 0   \n",
       "4                 0                 0                 0                 0   \n",
       "\n",
       "   loan_subgrade_B1  loan_subgrade_B2  loan_subgrade_B3  loan_subgrade_B4  \\\n",
       "0                 0                 0                 0                 0   \n",
       "1                 0                 0                 0                 0   \n",
       "2                 0                 0                 0                 0   \n",
       "3                 0                 0                 0                 0   \n",
       "4                 1                 0                 0                 0   \n",
       "\n",
       "   loan_subgrade_B5  loan_subgrade_C1  ...  borrower_r  delinquency_r  \\\n",
       "0                 0                 0  ...       28.31              0   \n",
       "1                 0                 0  ...       16.03              0   \n",
       "2                 0                 0  ...       32.49              0   \n",
       "3                 0                 0  ...       32.96              0   \n",
       "4                 0                 0  ...       31.03              0   \n",
       "\n",
       "   num_inq  num_cr_line  num_derogatory  total_cr_balance  utilization_r  \\\n",
       "0        1           18               0             19861          0.645   \n",
       "1        1           12               0             17001          0.262   \n",
       "2        0           16               0             25797          0.499   \n",
       "3        1           13               1              9586          0.438   \n",
       "4        0           27               0             31842          0.413   \n",
       "\n",
       "   total_cr_line  is_long_term  is_employed  \n",
       "0             33             0            1  \n",
       "1             36             0            1  \n",
       "2             33             0            1  \n",
       "3             21             0            1  \n",
       "4             43             0            1  \n",
       "\n",
       "[5 rows x 56 columns]"
      ]
     },
     "execution_count": 64,
     "metadata": {},
     "output_type": "execute_result"
    }
   ],
   "source": [
    "#Use test_used dataframe for predict Titanic results \n",
    "testdata = test_use.drop(['interest_rate'], axis=1)\n",
    "\n",
    "testdata.head()"
   ]
  },
  {
   "cell_type": "code",
   "execution_count": 71,
   "metadata": {
    "scrolled": true
   },
   "outputs": [
    {
     "name": "stdout",
     "output_type": "stream",
     "text": [
      "['loan_status_f', 'loan_purpose_L', 'interest_rate', 'is_home_L', 'loan_subgrade_NA', 'income_ver_NA']\n"
     ]
    }
   ],
   "source": [
    "#Check missing column\n",
    "testdata_c = list(testdata)\n",
    "train_use_c = list(train_use)\n",
    "set_difference = set(train_use_c) - set(testdata_c)\n",
    "list_difference = list(set_difference)\n",
    "\n",
    "print(list_difference)"
   ]
  },
  {
   "cell_type": "code",
   "execution_count": 81,
   "metadata": {},
   "outputs": [
    {
     "data": {
      "text/plain": [
       "<bound method DataFrame.info of        loan_subgrade_A2  loan_subgrade_A3  loan_subgrade_A4  loan_subgrade_A5  \\\n",
       "0                     0                 0                 0                 0   \n",
       "1                     0                 0                 0                 0   \n",
       "2                     0                 0                 0                 0   \n",
       "3                     0                 0                 0                 0   \n",
       "4                     0                 0                 0                 0   \n",
       "...                 ...               ...               ...               ...   \n",
       "79995                 1                 0                 0                 0   \n",
       "79996                 0                 0                 0                 0   \n",
       "79997                 0                 0                 0                 0   \n",
       "79998                 0                 0                 0                 0   \n",
       "79999                 0                 0                 0                 0   \n",
       "\n",
       "       loan_subgrade_B1  loan_subgrade_B2  loan_subgrade_B3  loan_subgrade_B4  \\\n",
       "0                     0                 0                 0                 0   \n",
       "1                     0                 0                 0                 0   \n",
       "2                     0                 0                 0                 0   \n",
       "3                     0                 0                 0                 0   \n",
       "4                     1                 0                 0                 0   \n",
       "...                 ...               ...               ...               ...   \n",
       "79995                 0                 0                 0                 0   \n",
       "79996                 0                 0                 0                 0   \n",
       "79997                 0                 0                 0                 0   \n",
       "79998                 0                 0                 0                 0   \n",
       "79999                 0                 0                 0                 0   \n",
       "\n",
       "       loan_subgrade_B5  loan_subgrade_C1  ...  total_cr_balance  \\\n",
       "0                     0                 0  ...             19861   \n",
       "1                     0                 0  ...             17001   \n",
       "2                     0                 0  ...             25797   \n",
       "3                     0                 0  ...              9586   \n",
       "4                     0                 0  ...             31842   \n",
       "...                 ...               ...  ...               ...   \n",
       "79995                 0                 0  ...              7185   \n",
       "79996                 0                 0  ...             25151   \n",
       "79997                 0                 0  ...             12161   \n",
       "79998                 0                 0  ...             13031   \n",
       "79999                 1                 0  ...             13773   \n",
       "\n",
       "       utilization_r  total_cr_line  is_long_term  is_employed  loan_status_f  \\\n",
       "0              0.645             33             0            1              0   \n",
       "1              0.262             36             0            1              0   \n",
       "2              0.499             33             0            1              0   \n",
       "3              0.438             21             0            1              0   \n",
       "4              0.413             43             0            1              0   \n",
       "...              ...            ...           ...          ...            ...   \n",
       "79995          0.479             15             0            1              0   \n",
       "79996          0.513             38             0            1              0   \n",
       "79997          0.371             36             0            1              0   \n",
       "79998          0.767             23             0            1              0   \n",
       "79999          0.937             26             0            1              0   \n",
       "\n",
       "       loan_purpose_L  is_home_L  loan_subgrade_NA  income_ver_NA  \n",
       "0                   0          0                 0              0  \n",
       "1                   0          0                 0              0  \n",
       "2                   0          0                 0              0  \n",
       "3                   0          0                 0              0  \n",
       "4                   0          0                 0              0  \n",
       "...               ...        ...               ...            ...  \n",
       "79995               0          0                 0              0  \n",
       "79996               0          0                 0              0  \n",
       "79997               0          0                 0              0  \n",
       "79998               0          0                 0              0  \n",
       "79999               0          0                 0              0  \n",
       "\n",
       "[80000 rows x 61 columns]>"
      ]
     },
     "execution_count": 81,
     "metadata": {},
     "output_type": "execute_result"
    }
   ],
   "source": [
    "#Assign columns for dummy variables to math the model\n",
    "\n",
    "dct = {'loan_status_f': 0, 'loan_purpose_L': 0, 'interest_rate': 0, 'is_home_L':0,  'loan_subgrade_NA':0, 'income_ver_NA':0}\n",
    "testdata2 = testdata.assign(**dct)\n",
    "testdata2 = testdata2.drop(['interest_rate'],axis=1)\n",
    "testdata2.info"
   ]
  },
  {
   "cell_type": "code",
   "execution_count": 90,
   "metadata": {},
   "outputs": [],
   "source": [
    "pickled_model = pickle.load(open('models.pckl', 'rb'))\n",
    "\n",
    "#Export prection results\n",
    "y_pred_rf = pickled_model.predict(testdata2)\n",
    "np.savetxt('Loan Prediction Results from phhuang3.csv', y_pred_rf, delimiter=',')"
   ]
  },
  {
   "cell_type": "markdown",
   "metadata": {},
   "source": [
    "Reference:\n",
    "1. https://github.com/ptyadana/Data-Science-and-Machine-Learning-Projects-Dojo/blob/master/Complete%20Tensorflow%202%20and%20Keras%20Deep%20Learning%20Bootcamp%20-%20JP/03-ANNs/03-Keras-Project-Exercise-Loan-Predictions.ipynb\n",
    "2. https://www.kaggle.com/code/faressayah/lending-club-loan-defaulters-prediction/notebook\n",
    "3. https://stackoverflow.com/questions/65463794/valueerror-unknown-label-type-continuous-in-decisiontreeclassifier"
   ]
  }
 ],
 "metadata": {
  "kernelspec": {
   "display_name": "Python 3",
   "language": "python",
   "name": "python3"
  },
  "language_info": {
   "codemirror_mode": {
    "name": "ipython",
    "version": 3
   },
   "file_extension": ".py",
   "mimetype": "text/x-python",
   "name": "python",
   "nbconvert_exporter": "python",
   "pygments_lexer": "ipython3",
   "version": "3.8.3"
  }
 },
 "nbformat": 4,
 "nbformat_minor": 4
}
